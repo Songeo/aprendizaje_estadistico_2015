{
 "cells": [
  {
   "cell_type": "markdown",
   "metadata": {},
   "source": [
    "# Redes convolucionales: primer ejemplo"
   ]
  },
  {
   "cell_type": "markdown",
   "metadata": {},
   "source": [
    "Veremos el primer ejemplo exitoso de aplicación de redes convolucionales. Este ejemplo es una red relativamente chica, y trata de reconocimiento de dígitos representados por imágenes de 16x16. Esta demostración está derivada de los ejemplos de `lasagne` que se pueden encontrar al instalarla."
   ]
  },
  {
   "cell_type": "markdown",
   "metadata": {},
   "source": [
    "### Preparación de datos\n",
    "\n",
    "Cargamos los datos a un dataframe de pandas. Los datos fueron extraídos del paquete ElemStatLearn de R."
   ]
  },
  {
   "cell_type": "code",
   "execution_count": 125,
   "metadata": {
    "collapsed": false
   },
   "outputs": [
    {
     "name": "stdout",
     "output_type": "stream",
     "text": [
      "(7291, 257)\n",
      "(2007, 257)\n"
     ]
    },
    {
     "data": {
      "text/html": [
       "<div>\n",
       "<table border=\"1\" class=\"dataframe\">\n",
       "  <thead>\n",
       "    <tr style=\"text-align: right;\">\n",
       "      <th></th>\n",
       "      <th>X1</th>\n",
       "      <th>X2</th>\n",
       "      <th>X3</th>\n",
       "      <th>X4</th>\n",
       "      <th>X5</th>\n",
       "      <th>X6</th>\n",
       "      <th>X7</th>\n",
       "      <th>X8</th>\n",
       "      <th>X9</th>\n",
       "      <th>X10</th>\n",
       "      <th>...</th>\n",
       "      <th>X248</th>\n",
       "      <th>X249</th>\n",
       "      <th>X250</th>\n",
       "      <th>X251</th>\n",
       "      <th>X252</th>\n",
       "      <th>X253</th>\n",
       "      <th>X254</th>\n",
       "      <th>X255</th>\n",
       "      <th>X256</th>\n",
       "      <th>X257</th>\n",
       "    </tr>\n",
       "  </thead>\n",
       "  <tbody>\n",
       "    <tr>\n",
       "      <th>0</th>\n",
       "      <td>6</td>\n",
       "      <td>-1</td>\n",
       "      <td>-1</td>\n",
       "      <td>-1</td>\n",
       "      <td>-1.000</td>\n",
       "      <td>-1.000</td>\n",
       "      <td>-1.000</td>\n",
       "      <td>-1.000</td>\n",
       "      <td>-0.631</td>\n",
       "      <td>0.862</td>\n",
       "      <td>...</td>\n",
       "      <td>0.304</td>\n",
       "      <td>0.823</td>\n",
       "      <td>1.000</td>\n",
       "      <td>0.482</td>\n",
       "      <td>-0.474</td>\n",
       "      <td>-0.991</td>\n",
       "      <td>-1.000</td>\n",
       "      <td>-1.000</td>\n",
       "      <td>-1.000</td>\n",
       "      <td>-1</td>\n",
       "    </tr>\n",
       "    <tr>\n",
       "      <th>1</th>\n",
       "      <td>5</td>\n",
       "      <td>-1</td>\n",
       "      <td>-1</td>\n",
       "      <td>-1</td>\n",
       "      <td>-0.813</td>\n",
       "      <td>-0.671</td>\n",
       "      <td>-0.809</td>\n",
       "      <td>-0.887</td>\n",
       "      <td>-0.671</td>\n",
       "      <td>-0.853</td>\n",
       "      <td>...</td>\n",
       "      <td>-0.671</td>\n",
       "      <td>-0.671</td>\n",
       "      <td>-0.033</td>\n",
       "      <td>0.761</td>\n",
       "      <td>0.762</td>\n",
       "      <td>0.126</td>\n",
       "      <td>-0.095</td>\n",
       "      <td>-0.671</td>\n",
       "      <td>-0.828</td>\n",
       "      <td>-1</td>\n",
       "    </tr>\n",
       "    <tr>\n",
       "      <th>2</th>\n",
       "      <td>4</td>\n",
       "      <td>-1</td>\n",
       "      <td>-1</td>\n",
       "      <td>-1</td>\n",
       "      <td>-1.000</td>\n",
       "      <td>-1.000</td>\n",
       "      <td>-1.000</td>\n",
       "      <td>-1.000</td>\n",
       "      <td>-1.000</td>\n",
       "      <td>-1.000</td>\n",
       "      <td>...</td>\n",
       "      <td>-1.000</td>\n",
       "      <td>-1.000</td>\n",
       "      <td>-1.000</td>\n",
       "      <td>-0.109</td>\n",
       "      <td>1.000</td>\n",
       "      <td>-0.179</td>\n",
       "      <td>-1.000</td>\n",
       "      <td>-1.000</td>\n",
       "      <td>-1.000</td>\n",
       "      <td>-1</td>\n",
       "    </tr>\n",
       "    <tr>\n",
       "      <th>3</th>\n",
       "      <td>7</td>\n",
       "      <td>-1</td>\n",
       "      <td>-1</td>\n",
       "      <td>-1</td>\n",
       "      <td>-1.000</td>\n",
       "      <td>-1.000</td>\n",
       "      <td>-0.273</td>\n",
       "      <td>0.684</td>\n",
       "      <td>0.960</td>\n",
       "      <td>0.450</td>\n",
       "      <td>...</td>\n",
       "      <td>-0.318</td>\n",
       "      <td>1.000</td>\n",
       "      <td>0.536</td>\n",
       "      <td>-0.987</td>\n",
       "      <td>-1.000</td>\n",
       "      <td>-1.000</td>\n",
       "      <td>-1.000</td>\n",
       "      <td>-1.000</td>\n",
       "      <td>-1.000</td>\n",
       "      <td>-1</td>\n",
       "    </tr>\n",
       "    <tr>\n",
       "      <th>4</th>\n",
       "      <td>3</td>\n",
       "      <td>-1</td>\n",
       "      <td>-1</td>\n",
       "      <td>-1</td>\n",
       "      <td>-1.000</td>\n",
       "      <td>-1.000</td>\n",
       "      <td>-0.928</td>\n",
       "      <td>-0.204</td>\n",
       "      <td>0.751</td>\n",
       "      <td>0.466</td>\n",
       "      <td>...</td>\n",
       "      <td>0.466</td>\n",
       "      <td>0.639</td>\n",
       "      <td>1.000</td>\n",
       "      <td>1.000</td>\n",
       "      <td>0.791</td>\n",
       "      <td>0.439</td>\n",
       "      <td>-0.199</td>\n",
       "      <td>-0.883</td>\n",
       "      <td>-1.000</td>\n",
       "      <td>-1</td>\n",
       "    </tr>\n",
       "    <tr>\n",
       "      <th>...</th>\n",
       "      <td>...</td>\n",
       "      <td>...</td>\n",
       "      <td>...</td>\n",
       "      <td>...</td>\n",
       "      <td>...</td>\n",
       "      <td>...</td>\n",
       "      <td>...</td>\n",
       "      <td>...</td>\n",
       "      <td>...</td>\n",
       "      <td>...</td>\n",
       "      <td>...</td>\n",
       "      <td>...</td>\n",
       "      <td>...</td>\n",
       "      <td>...</td>\n",
       "      <td>...</td>\n",
       "      <td>...</td>\n",
       "      <td>...</td>\n",
       "      <td>...</td>\n",
       "      <td>...</td>\n",
       "      <td>...</td>\n",
       "      <td>...</td>\n",
       "    </tr>\n",
       "    <tr>\n",
       "      <th>7286</th>\n",
       "      <td>3</td>\n",
       "      <td>-1</td>\n",
       "      <td>-1</td>\n",
       "      <td>-1</td>\n",
       "      <td>-0.988</td>\n",
       "      <td>-0.527</td>\n",
       "      <td>-0.208</td>\n",
       "      <td>0.620</td>\n",
       "      <td>1.000</td>\n",
       "      <td>0.467</td>\n",
       "      <td>...</td>\n",
       "      <td>-0.116</td>\n",
       "      <td>0.899</td>\n",
       "      <td>0.416</td>\n",
       "      <td>-0.510</td>\n",
       "      <td>-1.000</td>\n",
       "      <td>-1.000</td>\n",
       "      <td>-1.000</td>\n",
       "      <td>-1.000</td>\n",
       "      <td>-1.000</td>\n",
       "      <td>-1</td>\n",
       "    </tr>\n",
       "    <tr>\n",
       "      <th>7287</th>\n",
       "      <td>3</td>\n",
       "      <td>-1</td>\n",
       "      <td>-1</td>\n",
       "      <td>-1</td>\n",
       "      <td>-0.990</td>\n",
       "      <td>0.708</td>\n",
       "      <td>0.557</td>\n",
       "      <td>0.347</td>\n",
       "      <td>-0.107</td>\n",
       "      <td>-0.758</td>\n",
       "      <td>...</td>\n",
       "      <td>0.697</td>\n",
       "      <td>0.636</td>\n",
       "      <td>0.167</td>\n",
       "      <td>-0.968</td>\n",
       "      <td>-1.000</td>\n",
       "      <td>-1.000</td>\n",
       "      <td>-1.000</td>\n",
       "      <td>-1.000</td>\n",
       "      <td>-1.000</td>\n",
       "      <td>-1</td>\n",
       "    </tr>\n",
       "    <tr>\n",
       "      <th>7288</th>\n",
       "      <td>3</td>\n",
       "      <td>-1</td>\n",
       "      <td>-1</td>\n",
       "      <td>-1</td>\n",
       "      <td>-0.783</td>\n",
       "      <td>-0.984</td>\n",
       "      <td>-0.827</td>\n",
       "      <td>0.068</td>\n",
       "      <td>1.000</td>\n",
       "      <td>1.000</td>\n",
       "      <td>...</td>\n",
       "      <td>0.805</td>\n",
       "      <td>1.000</td>\n",
       "      <td>1.000</td>\n",
       "      <td>0.727</td>\n",
       "      <td>-0.342</td>\n",
       "      <td>-0.933</td>\n",
       "      <td>-1.000</td>\n",
       "      <td>-1.000</td>\n",
       "      <td>-1.000</td>\n",
       "      <td>-1</td>\n",
       "    </tr>\n",
       "    <tr>\n",
       "      <th>7289</th>\n",
       "      <td>0</td>\n",
       "      <td>-1</td>\n",
       "      <td>-1</td>\n",
       "      <td>-1</td>\n",
       "      <td>-1.000</td>\n",
       "      <td>-1.000</td>\n",
       "      <td>-0.549</td>\n",
       "      <td>0.463</td>\n",
       "      <td>0.999</td>\n",
       "      <td>0.999</td>\n",
       "      <td>...</td>\n",
       "      <td>-0.231</td>\n",
       "      <td>0.621</td>\n",
       "      <td>0.999</td>\n",
       "      <td>-0.042</td>\n",
       "      <td>-0.231</td>\n",
       "      <td>-0.687</td>\n",
       "      <td>-1.000</td>\n",
       "      <td>-1.000</td>\n",
       "      <td>-1.000</td>\n",
       "      <td>-1</td>\n",
       "    </tr>\n",
       "    <tr>\n",
       "      <th>7290</th>\n",
       "      <td>1</td>\n",
       "      <td>-1</td>\n",
       "      <td>-1</td>\n",
       "      <td>-1</td>\n",
       "      <td>-1.000</td>\n",
       "      <td>-1.000</td>\n",
       "      <td>-0.108</td>\n",
       "      <td>1.000</td>\n",
       "      <td>0.616</td>\n",
       "      <td>-0.867</td>\n",
       "      <td>...</td>\n",
       "      <td>-0.634</td>\n",
       "      <td>0.803</td>\n",
       "      <td>0.589</td>\n",
       "      <td>-0.907</td>\n",
       "      <td>-1.000</td>\n",
       "      <td>-1.000</td>\n",
       "      <td>-1.000</td>\n",
       "      <td>-1.000</td>\n",
       "      <td>-1.000</td>\n",
       "      <td>-1</td>\n",
       "    </tr>\n",
       "  </tbody>\n",
       "</table>\n",
       "<p>7291 rows × 257 columns</p>\n",
       "</div>"
      ],
      "text/plain": [
       "      X1  X2  X3  X4     X5     X6     X7     X8     X9    X10  ...    X248  \\\n",
       "0      6  -1  -1  -1 -1.000 -1.000 -1.000 -1.000 -0.631  0.862  ...   0.304   \n",
       "1      5  -1  -1  -1 -0.813 -0.671 -0.809 -0.887 -0.671 -0.853  ...  -0.671   \n",
       "2      4  -1  -1  -1 -1.000 -1.000 -1.000 -1.000 -1.000 -1.000  ...  -1.000   \n",
       "3      7  -1  -1  -1 -1.000 -1.000 -0.273  0.684  0.960  0.450  ...  -0.318   \n",
       "4      3  -1  -1  -1 -1.000 -1.000 -0.928 -0.204  0.751  0.466  ...   0.466   \n",
       "...   ..  ..  ..  ..    ...    ...    ...    ...    ...    ...  ...     ...   \n",
       "7286   3  -1  -1  -1 -0.988 -0.527 -0.208  0.620  1.000  0.467  ...  -0.116   \n",
       "7287   3  -1  -1  -1 -0.990  0.708  0.557  0.347 -0.107 -0.758  ...   0.697   \n",
       "7288   3  -1  -1  -1 -0.783 -0.984 -0.827  0.068  1.000  1.000  ...   0.805   \n",
       "7289   0  -1  -1  -1 -1.000 -1.000 -0.549  0.463  0.999  0.999  ...  -0.231   \n",
       "7290   1  -1  -1  -1 -1.000 -1.000 -0.108  1.000  0.616 -0.867  ...  -0.634   \n",
       "\n",
       "       X249   X250   X251   X252   X253   X254   X255   X256  X257  \n",
       "0     0.823  1.000  0.482 -0.474 -0.991 -1.000 -1.000 -1.000    -1  \n",
       "1    -0.671 -0.033  0.761  0.762  0.126 -0.095 -0.671 -0.828    -1  \n",
       "2    -1.000 -1.000 -0.109  1.000 -0.179 -1.000 -1.000 -1.000    -1  \n",
       "3     1.000  0.536 -0.987 -1.000 -1.000 -1.000 -1.000 -1.000    -1  \n",
       "4     0.639  1.000  1.000  0.791  0.439 -0.199 -0.883 -1.000    -1  \n",
       "...     ...    ...    ...    ...    ...    ...    ...    ...   ...  \n",
       "7286  0.899  0.416 -0.510 -1.000 -1.000 -1.000 -1.000 -1.000    -1  \n",
       "7287  0.636  0.167 -0.968 -1.000 -1.000 -1.000 -1.000 -1.000    -1  \n",
       "7288  1.000  1.000  0.727 -0.342 -0.933 -1.000 -1.000 -1.000    -1  \n",
       "7289  0.621  0.999 -0.042 -0.231 -0.687 -1.000 -1.000 -1.000    -1  \n",
       "7290  0.803  0.589 -0.907 -1.000 -1.000 -1.000 -1.000 -1.000    -1  \n",
       "\n",
       "[7291 rows x 257 columns]"
      ]
     },
     "execution_count": 125,
     "metadata": {},
     "output_type": "execute_result"
    }
   ],
   "source": [
    "import time\n",
    "import numpy as np\n",
    "import matplotlib.pyplot as plt\n",
    "from matplotlib import rcParams\n",
    "\n",
    "\n",
    "import pandas as pd\n",
    "pd.options.display.max_rows = 10\n",
    "\n",
    "\n",
    "df_train = pd.read_csv('zip_train.csv', sep=',')\n",
    "df_test = pd.read_csv('zip_test.csv', sep=',')\n",
    "print df_train.shape\n",
    "print df_test.shape\n",
    "df_train"
   ]
  },
  {
   "cell_type": "markdown",
   "metadata": {},
   "source": [
    "Extraemos las columnas con las intensidades de los pixeles y los convertimos en vectores de np, y extraemos también las etiquetas:"
   ]
  },
  {
   "cell_type": "code",
   "execution_count": 126,
   "metadata": {
    "collapsed": false
   },
   "outputs": [
    {
     "name": "stdout",
     "output_type": "stream",
     "text": [
      "(7291, 256)\n",
      "[[-1.         -1.         -1.         ..., -1.         -1.         -1.        ]\n",
      " [-1.         -1.         -1.         ..., -0.671      -0.82800001 -1.        ]\n",
      " [-1.         -1.         -1.         ..., -1.         -1.         -1.        ]\n",
      " ..., \n",
      " [-1.         -1.         -1.         ..., -1.         -1.         -1.        ]\n",
      " [-1.         -1.         -1.         ..., -1.         -1.         -1.        ]\n",
      " [-1.         -1.         -1.         ..., -1.         -1.         -1.        ]]\n",
      "[6 5 4 ..., 3 0 1]\n"
     ]
    }
   ],
   "source": [
    "x_train_1 = np.float32(df_train.iloc[:,1:257].values)\n",
    "x_test_1 = np.float32(df_test.iloc[:,1:257].values)\n",
    "y_train = np.int32(df_train['X1'])\n",
    "y_test = np.int32(df_test['X1'])\n",
    "\n",
    "print x_train_1.shape\n",
    "print x_train_1\n",
    "print y_train\n"
   ]
  },
  {
   "cell_type": "markdown",
   "metadata": {},
   "source": [
    "Ahora graficamos los datos. Nótese que en este ejemplo rellenamos pixeles oscuros alrededor de la imagen. Esto lo hacemos para poder hacer la convolución 5x5 sobre todos los pixeles de la imagen (también puede rellenarse con tamaño 4, para hacer convoluciones que cubran todos los pixeles en todas las posibles posiciones:"
   ]
  },
  {
   "cell_type": "code",
   "execution_count": 127,
   "metadata": {
    "collapsed": false
   },
   "outputs": [
    {
     "data": {
      "image/png": "[encoded data removed]",
      "text/plain": [
       "<matplotlib.figure.Figure at 0x119f00ad0>"
      ]
     },
     "metadata": {},
     "output_type": "display_data"
    },
    {
     "name": "stdout",
     "output_type": "stream",
     "text": [
      "6\n"
     ]
    }
   ],
   "source": [
    "%matplotlib inline\n",
    "plt.imshow(np.lib.pad(x_train_1[0,].reshape(16,16), (6,6), mode='constant', constant_values=-1))\n",
    "plt.show()\n",
    "print y_train[0]"
   ]
  },
  {
   "cell_type": "markdown",
   "metadata": {},
   "source": [
    "Aquí hacemos el relleno (padding) de las imagenes, y las convertimos a matrices de 16x16. Nótese que ahora los conjuntos de entrenamiento y prueba son arreglos de 4 dimensiones (número de casos, 1, alto de imagen, ancho de imagen). Si fueran imágenes a color la segunda dimensión sería de tamaño 3 en lugar de 1"
   ]
  },
  {
   "cell_type": "code",
   "execution_count": 128,
   "metadata": {
    "collapsed": false
   },
   "outputs": [
    {
     "name": "stdout",
     "output_type": "stream",
     "text": [
      "(28, 28)\n",
      "(7291, 1, 28, 28)\n",
      "(2007, 1, 28, 28)\n"
     ]
    }
   ],
   "source": [
    "n_pad = 6\n",
    "x_train = np.pad(x_train_1.reshape(x_train_1.shape[0], 1, 16, 16), \n",
    "                 ((0,0),(0,0),(n_pad,n_pad),(n_pad,n_pad)), mode='constant', constant_values=-1)\n",
    "x_test = np.pad(x_test_1.reshape(x_test_1.shape[0], 1, 16, 16), \n",
    "                ((0,0),(0,0),(n_pad,n_pad),(n_pad,n_pad)), mode='constant', constant_values=-1)\n",
    "#x_train = x_train_1.reshape(x_train_1.shape[0], 1, 16, 16)+1\n",
    "#x_test = x_test_1.reshape(x_test_1.shape[0], 1, 16, 16)+1\n",
    "\n",
    "print x_train[5][0].shape\n",
    "print x_train.shape\n",
    "print x_test.shape\n",
    "#x_train[5][0]"
   ]
  },
  {
   "cell_type": "markdown",
   "metadata": {},
   "source": [
    "Necesitamos una función para iterar sobre los datos en mini-lotes. Esta función es un iterador:"
   ]
  },
  {
   "cell_type": "code",
   "execution_count": 129,
   "metadata": {
    "collapsed": true
   },
   "outputs": [],
   "source": [
    "def iterar_minilotes(entradas, respuesta, n_lote, mezclar):\n",
    "    if mezclar:\n",
    "        indices = np.arange(len(entradas))\n",
    "        np.random.shuffle(indices)\n",
    "    for i in range(0, len(entradas) - n_lote + 1, n_lote):\n",
    "        if mezclar:\n",
    "            parte = indices[i:i + n_lote]\n",
    "        else:\n",
    "            parte = slice(i, i + n_lote)\n",
    "        yield entradas[parte], respuesta[parte]"
   ]
  },
  {
   "cell_type": "code",
   "execution_count": 130,
   "metadata": {
    "collapsed": false
   },
   "outputs": [
    {
     "name": "stdout",
     "output_type": "stream",
     "text": [
      "[9 0 0 9 8 7]\n",
      "[5 7 0 1 3 2]\n",
      "[0 4 0 1 7 9]\n"
     ]
    }
   ],
   "source": [
    "it = iterar_minilotes(x_train, y_train, 6, mezclar = True)\n",
    "a,b = it.next()\n",
    "print b\n",
    "a,b = it.next()\n",
    "print b\n",
    "a,b = it.next()\n",
    "print b\n",
    "\n",
    "for a,b in it:\n",
    "    pass\n"
   ]
  },
  {
   "cell_type": "markdown",
   "metadata": {},
   "source": [
    " ### Arquitectura de red\n",
    " \n",
    " El código que sigue está derivado de los [ejemplos de lasagne](https://github.com/Lasagne/Lasagne/blob/master/examples/mnist.py). Empezamos cargando las librerías que necesitamos. Nótese el mensaje de que el GPU fue reconocido:"
   ]
  },
  {
   "cell_type": "code",
   "execution_count": 131,
   "metadata": {
    "collapsed": false
   },
   "outputs": [],
   "source": [
    "import lasagne\n",
    "from lasagne import layers\n",
    "from lasagne.nonlinearities import  softmax, rectify, sigmoid\n",
    "import theano\n",
    "import theano.tensor as T\n",
    "from lasagne.regularization import regularize_layer_params_weighted, l2"
   ]
  },
  {
   "cell_type": "markdown",
   "metadata": {},
   "source": [
    "Definimos variables para el tamaño de los datos de entrada y para el tamaño de lote:"
   ]
  },
  {
   "cell_type": "code",
   "execution_count": 132,
   "metadata": {
    "collapsed": true
   },
   "outputs": [],
   "source": [
    "im_ancho = 16 + 2*n_pad\n",
    "im_alto = 16 + 2*n_pad"
   ]
  },
  {
   "cell_type": "code",
   "execution_count": 133,
   "metadata": {
    "collapsed": false
   },
   "outputs": [],
   "source": [
    "n_lote=400"
   ]
  },
  {
   "cell_type": "markdown",
   "metadata": {},
   "source": [
    "Definimos ahora la arquitectura de la red, que en este primer ejemplo tiene:\n",
    "\n",
    "1. una capa de convolución con 8 filtros, \n",
    "2. una capa de max pooling, luego \n",
    "3. una capa de convolución con 30 filtros, \n",
    "4. una capa de max pooling, \n",
    "5. una capa oculta totalmente conectada con 100 unidades, y finalmente \n",
    "6. la capa de salida que es totalmente conectada:"
   ]
  },
  {
   "cell_type": "code",
   "execution_count": 134,
   "metadata": {
    "collapsed": false
   },
   "outputs": [],
   "source": [
    "# Esto da la forma de entradas: los datos de entrada son de dmensión \n",
    "# num_casos x 1 x im_alto x im_anch0\n",
    "# para imagenes en color es num_casos x 3 x im_alto x im_ancho (3=rgb)\n",
    "entrada_var = T.tensor4('entradas')\n",
    "respuesta_var = T.ivector('respuesta')\n",
    "\n",
    "# Poner semilla, pues abajo se inicializan al azar los pesos\n",
    "\n",
    "np.random.seed(8725)\n",
    "\n",
    "# Ahora definimos las capas\n",
    "\n",
    "capa_entrada = layers.InputLayer((n_lote, 1, im_ancho, im_alto), entrada_var)\n",
    "\n",
    "capa_conv_1 = layers.Conv2DLayer(\n",
    "    capa_entrada,\n",
    "    num_filters = 4,\n",
    "    filter_size = (5,5),\n",
    "    nonlinearity = rectify)\n",
    "\n",
    "capa_pool_1 = layers.MaxPool2DLayer(\n",
    "    capa_conv_1,\n",
    "    pool_size = (2,2)\n",
    ")\n",
    "\n",
    "capa_conv_2 = layers.Conv2DLayer(\n",
    "    capa_pool_1,\n",
    "    num_filters = 10,\n",
    "    filter_size = (5,5),\n",
    "    nonlinearity = rectify\n",
    ")\n",
    "\n",
    "capa_pool_2 = layers.MaxPool2DLayer(\n",
    "    capa_conv_2,\n",
    "    pool_size = (2,2)\n",
    ")\n",
    "\n",
    "#capa_oculta = layers.DenseLayer(\n",
    "#    capa_pool_2,\n",
    "#    num_units = 8,\n",
    "#    nonlinearity = rectify\n",
    "#)\n",
    "\n",
    "capa_salida = layers.DenseLayer(\n",
    "    capa_pool_2,\n",
    "    num_units = 10,\n",
    "    nonlinearity = softmax\n",
    ")"
   ]
  },
  {
   "cell_type": "markdown",
   "metadata": {},
   "source": [
    "En total, nuestra red tiene el siguiente número de parámetros:"
   ]
  },
  {
   "cell_type": "code",
   "execution_count": 135,
   "metadata": {
    "collapsed": false
   },
   "outputs": [
    {
     "name": "stdout",
     "output_type": "stream",
     "text": [
      "2724\n",
      "(4, 1, 5, 5)\n",
      "(10, 4, 5, 5)\n",
      "(160, 10)\n"
     ]
    }
   ],
   "source": [
    "\n",
    "print layers.count_params(capa_salida)\n",
    "print capa_conv_1.W.get_value().shape\n",
    "print capa_conv_2.W.get_value().shape\n",
    "#print capa_oculta.W.get_value().shape\n",
    "print capa_salida.W.get_value().shape"
   ]
  },
  {
   "cell_type": "markdown",
   "metadata": {},
   "source": [
    "¿Cómo se ve, por ejemplo, la incialización de la primera capa?"
   ]
  },
  {
   "cell_type": "code",
   "execution_count": 136,
   "metadata": {
    "collapsed": false
   },
   "outputs": [
    {
     "name": "stdout",
     "output_type": "stream",
     "text": [
      "(4, 1, 5, 5)\n",
      "[[ 0.16448954  0.21868072  0.19367532 -0.19746259  0.09410992]\n",
      " [ 0.09979602 -0.19904077 -0.10835413  0.08268167  0.04086857]\n",
      " [-0.03652755 -0.0718561  -0.20396399  0.18297067 -0.1114347 ]\n",
      " [-0.08498354  0.18924432 -0.17541225  0.0739847   0.06894962]\n",
      " [ 0.07897285 -0.18638538 -0.15542826  0.12126783  0.21643192]]\n"
     ]
    },
    {
     "data": {
      "image/png": "[encoded data removed]",
      "text/plain": [
       "<matplotlib.figure.Figure at 0x11f553e90>"
      ]
     },
     "metadata": {},
     "output_type": "display_data"
    },
    {
     "data": {
      "image/png": "[encoded data removed]",
      "text/plain": [
       "<matplotlib.figure.Figure at 0x110366090>"
      ]
     },
     "metadata": {},
     "output_type": "display_data"
    }
   ],
   "source": [
    "import matplotlib.cm as cm\n",
    "import matplotlib.gridspec as gridspec\n",
    "\n",
    "pesos_1 = capa_conv_1.W.get_value()\n",
    "pesos_2 =  capa_conv_2.W.get_value()\n",
    "print pesos_1.shape\n",
    "print pesos_1[0,0,:,:]\n",
    "\n",
    "fig  = plt.figure()\n",
    "num_filt_1 = pesos_1.shape[0]\n",
    "gs = gridspec.GridSpec(1, num_filt_1)\n",
    "ax = [plt.subplot(gs[i]) for i in range(num_filt_1)]\n",
    "gs.update(hspace=0)\n",
    "gs.tight_layout(fig, h_pad=-2.0,w_pad=0.0)\n",
    "for i in range(num_filt_1):\n",
    "    ax[i].imshow(pesos_1[i,0,:,:], cmap = cm.Greys_r,  interpolation = 'none')\n",
    "fig  = plt.figure()\n",
    "num_filt_1 = pesos_1.shape[0]\n",
    "gs = gridspec.GridSpec(1, num_filt_1)\n",
    "ax = [plt.subplot(gs[i]) for i in range(num_filt_1)]\n",
    "gs.update(hspace=0)\n",
    "gs.tight_layout(fig, h_pad=-2.0,w_pad=0.0)\n",
    "for i in range(num_filt_1):\n",
    "    ax[i].imshow(pesos_1[i,0,:,:], cmap = cm.Greys_r)#, interpolation = 'none')\n",
    " "
   ]
  },
  {
   "cell_type": "markdown",
   "metadata": {},
   "source": [
    "### Definición de pérdida y de optimización\n",
    "\n",
    "Primero definimos la funciones necesarias para calcular la pérdida. Con salida obtenemos (cross entropy es devianza multinomial /2):"
   ]
  },
  {
   "cell_type": "code",
   "execution_count": 137,
   "metadata": {
    "collapsed": false
   },
   "outputs": [],
   "source": [
    "salida = lasagne.layers.get_output(capa_salida)\n",
    "salida\n",
    "perdida = lasagne.objectives.categorical_crossentropy(salida, respuesta_var)\n",
    "perdida = perdida.mean() #calcular media sobre los datos que pasemos"
   ]
  },
  {
   "cell_type": "markdown",
   "metadata": {},
   "source": [
    "Podemos definir la regularización simplemente sumando a la pérdida que establecimos arriba. La regularización es un parámetro que también podemos afinar:"
   ]
  },
  {
   "cell_type": "code",
   "execution_count": 138,
   "metadata": {
    "collapsed": false
   },
   "outputs": [],
   "source": [
    "reg_capas = {capa_conv_1:0.02, capa_conv_2:0.02, capa_salida:0.02}\n",
    "\n",
    "l2_penalizacion = regularize_layer_params_weighted(reg_capas, l2)\n",
    "perdida_reg = perdida + l2_penalizacion"
   ]
  },
  {
   "cell_type": "markdown",
   "metadata": {},
   "source": [
    "Y ahora repetimos para calcular sobre la muestra de prueba, agregando también una función para el cálculo de la tasa de clasificación incorrecta:"
   ]
  },
  {
   "cell_type": "code",
   "execution_count": 139,
   "metadata": {
    "collapsed": false
   },
   "outputs": [],
   "source": [
    "salida_prueba = lasagne.layers.get_output(capa_salida, deterministic=True)\n",
    "perdida_pr = lasagne.objectives.categorical_crossentropy(salida_prueba, respuesta_var)\n",
    "perdida_pr = perdida_pr.mean()\n",
    "error_pr = T.mean(T.eq(T.argmax(salida_prueba, axis=1), respuesta_var))"
   ]
  },
  {
   "cell_type": "markdown",
   "metadata": {},
   "source": [
    "### Entrenamiento\n",
    "En esta parte definimos los parámetros sobre los que queremos optimizar, y usamos actualización de \n",
    "descenso estocástico. En esta parte podemos ajustar la `learning_rate` para afinar la convergencia. En lo que sigue:\n",
    "\n",
    "- Entrenaremos por **descenso estocástico con mini-lotes**.\n",
    "- Escoger el **tamaño de minilote** suficientemente chico para no exceder la memoria del GPU, y aumentar para tener convergencia más rápida. Con minilotes demasiado chicos puede tardar más un recorrido sobre todos los datos (pasar datos de cpu a gpu).\n",
    "- Una **época** es una vuelta completa a todos los datos.\n",
    "- La **tasa de aprendizaje** tiene que ser suficientemente chica para evitar divergencia. Si el algoritmo parece converger en promedio pero  oscila mucho hacia el final, podemos bajar un poco la tasa de aprendizaje y obtener una solución ligeramente mejor. Se puede reducir hacia el final del entrenamiento también."
   ]
  },
  {
   "cell_type": "code",
   "execution_count": 140,
   "metadata": {
    "collapsed": false
   },
   "outputs": [],
   "source": [
    "params = lasagne.layers.get_all_params(capa_salida, trainable = True)\n",
    "updates = lasagne.updates.sgd(perdida_reg, params, learning_rate=0.025)\n",
    "#updates = lasagne.updates.nesterov_momentum(\n",
    "#        perdida_reg, params, learning_rate=0.01, momentum=0.9)"
   ]
  },
  {
   "cell_type": "code",
   "execution_count": 141,
   "metadata": {
    "collapsed": false
   },
   "outputs": [],
   "source": [
    "entrena_fn = theano.function([entrada_var, respuesta_var], perdida, updates = updates)\n",
    "valid_fn = theano.function([entrada_var, respuesta_var], [perdida_pr, error_pr])\n"
   ]
  },
  {
   "cell_type": "markdown",
   "metadata": {},
   "source": [
    "Y finalmente definimos la siguiente función para hacer le entrenamiento"
   ]
  },
  {
   "cell_type": "code",
   "execution_count": 142,
   "metadata": {
    "collapsed": false
   },
   "outputs": [],
   "source": [
    "def ajustar_red(num_epochs, x_train,y_train, x_test,y_test, entrena_fn, valid_fn):\n",
    "    for epoch in range(num_epochs):\n",
    "        train_err = 0\n",
    "        train_batches = 0\n",
    "        start_time = time.time()\n",
    "        for batch in iterar_minilotes(x_train, y_train, n_lote, mezclar = True):\n",
    "            inputs, targets = batch\n",
    "            train_err += entrena_fn(inputs, targets)\n",
    "            train_batches += 1\n",
    "        # And a full pass over the validation data:\n",
    "        val_err = 0\n",
    "        val_acc = 0\n",
    "        val_batches = 0\n",
    "        for batch in iterar_minilotes(x_test, y_test, n_lote, mezclar=False):\n",
    "            inputs, targets = batch\n",
    "            err, acc = valid_fn(inputs, targets)\n",
    "            val_err += err\n",
    "            val_acc += acc\n",
    "            val_batches += 1\n",
    "\n",
    "        # Then we print the results for this epoch:\n",
    "        if(epoch % 10 == 0 or epoch < 10):\n",
    "            print(\"Época {} de {} tomó {:.3f}s\".format(\n",
    "                epoch + 1, num_epochs, time.time() - start_time))\n",
    "            print(\"  pérdida entrenamiento:\\t\\t{:.4f}\".format(train_err / train_batches))\n",
    "            print(\"  pérdida validación:   \\t\\t{:.4f}\".format(val_err / val_batches))\n",
    "            print(\"  correctos validación: \\t\\t{:.2f} %\".format(\n",
    "                val_acc / val_batches * 100))\n",
    "            \n"
   ]
  },
  {
   "cell_type": "code",
   "execution_count": 143,
   "metadata": {
    "collapsed": false
   },
   "outputs": [
    {
     "name": "stdout",
     "output_type": "stream",
     "text": [
      "Época 1 de 150 tomó 1.432s\n",
      "  pérdida entrenamiento:\t\t2.1806\n",
      "  pérdida validación:   \t\t2.0599\n",
      "  correctos validación: \t\t35.10 %\n",
      "Época 2 de 150 tomó 1.046s\n",
      "  pérdida entrenamiento:\t\t1.9304\n",
      "  pérdida validación:   \t\t1.7892\n",
      "  correctos validación: \t\t40.80 %\n",
      "Época 3 de 150 tomó 1.041s\n",
      "  pérdida entrenamiento:\t\t1.6079\n",
      "  pérdida validación:   \t\t1.4597\n",
      "  correctos validación: \t\t52.55 %\n",
      "Época 4 de 150 tomó 1.042s\n",
      "  pérdida entrenamiento:\t\t1.2653\n",
      "  pérdida validación:   \t\t1.1585\n",
      "  correctos validación: \t\t66.30 %\n",
      "Época 5 de 150 tomó 1.046s\n",
      "  pérdida entrenamiento:\t\t0.9762\n",
      "  pérdida validación:   \t\t0.9225\n",
      "  correctos validación: \t\t74.20 %\n",
      "Época 6 de 150 tomó 1.044s\n",
      "  pérdida entrenamiento:\t\t0.7581\n",
      "  pérdida validación:   \t\t0.7529\n",
      "  correctos validación: \t\t79.55 %\n",
      "Época 7 de 150 tomó 1.041s\n",
      "  pérdida entrenamiento:\t\t0.6059\n",
      "  pérdida validación:   \t\t0.6391\n",
      "  correctos validación: \t\t83.25 %\n",
      "Época 8 de 150 tomó 1.042s\n",
      "  pérdida entrenamiento:\t\t0.5005\n",
      "  pérdida validación:   \t\t0.5615\n",
      "  correctos validación: \t\t85.00 %\n",
      "Época 9 de 150 tomó 1.040s\n",
      "  pérdida entrenamiento:\t\t0.4339\n",
      "  pérdida validación:   \t\t0.5127\n",
      "  correctos validación: \t\t86.25 %\n",
      "Época 10 de 150 tomó 1.041s\n",
      "  pérdida entrenamiento:\t\t0.3865\n",
      "  pérdida validación:   \t\t0.4709\n",
      "  correctos validación: \t\t87.35 %\n",
      "Época 11 de 150 tomó 1.041s\n",
      "  pérdida entrenamiento:\t\t0.3535\n",
      "  pérdida validación:   \t\t0.4465\n",
      "  correctos validación: \t\t87.50 %\n",
      "Época 21 de 150 tomó 1.038s\n",
      "  pérdida entrenamiento:\t\t0.2212\n",
      "  pérdida validación:   \t\t0.3323\n",
      "  correctos validación: \t\t91.40 %\n",
      "Época 31 de 150 tomó 1.039s\n",
      "  pérdida entrenamiento:\t\t0.1867\n",
      "  pérdida validación:   \t\t0.2964\n",
      "  correctos validación: \t\t92.30 %\n",
      "Época 41 de 150 tomó 1.037s\n",
      "  pérdida entrenamiento:\t\t0.1692\n",
      "  pérdida validación:   \t\t0.2790\n",
      "  correctos validación: \t\t92.60 %\n",
      "Época 51 de 150 tomó 1.036s\n",
      "  pérdida entrenamiento:\t\t0.1567\n",
      "  pérdida validación:   \t\t0.2653\n",
      "  correctos validación: \t\t93.15 %\n",
      "Época 61 de 150 tomó 1.039s\n",
      "  pérdida entrenamiento:\t\t0.1500\n",
      "  pérdida validación:   \t\t0.2559\n",
      "  correctos validación: \t\t93.20 %\n",
      "Época 71 de 150 tomó 1.047s\n",
      "  pérdida entrenamiento:\t\t0.1452\n",
      "  pérdida validación:   \t\t0.2505\n",
      "  correctos validación: \t\t93.40 %\n",
      "Época 81 de 150 tomó 1.043s\n",
      "  pérdida entrenamiento:\t\t0.1400\n",
      "  pérdida validación:   \t\t0.2447\n",
      "  correctos validación: \t\t93.85 %\n",
      "Época 91 de 150 tomó 1.041s\n",
      "  pérdida entrenamiento:\t\t0.1358\n",
      "  pérdida validación:   \t\t0.2409\n",
      "  correctos validación: \t\t93.80 %\n",
      "Época 101 de 150 tomó 1.041s\n",
      "  pérdida entrenamiento:\t\t0.1325\n",
      "  pérdida validación:   \t\t0.2389\n",
      "  correctos validación: \t\t94.30 %\n",
      "Época 111 de 150 tomó 1.043s\n",
      "  pérdida entrenamiento:\t\t0.1302\n",
      "  pérdida validación:   \t\t0.2333\n",
      "  correctos validación: \t\t94.40 %\n",
      "Época 121 de 150 tomó 1.051s\n",
      "  pérdida entrenamiento:\t\t0.1285\n",
      "  pérdida validación:   \t\t0.2342\n",
      "  correctos validación: \t\t93.90 %\n",
      "Época 131 de 150 tomó 1.044s\n",
      "  pérdida entrenamiento:\t\t0.1270\n",
      "  pérdida validación:   \t\t0.2273\n",
      "  correctos validación: \t\t94.50 %\n",
      "Época 141 de 150 tomó 1.048s\n",
      "  pérdida entrenamiento:\t\t0.1244\n",
      "  pérdida validación:   \t\t0.2299\n",
      "  correctos validación: \t\t94.25 %\n"
     ]
    }
   ],
   "source": [
    "ajustar_red(150, x_train,y_train, x_test,y_test, entrena_fn, valid_fn)"
   ]
  },
  {
   "cell_type": "markdown",
   "metadata": {},
   "source": [
    "### Evaluación y predicciones\n",
    "\n",
    "Podemos extraer predicciones con el siguiente código (escogiendo la predicción como la clase con probabilidad más alta):"
   ]
  },
  {
   "cell_type": "code",
   "execution_count": 144,
   "metadata": {
    "collapsed": false
   },
   "outputs": [
    {
     "name": "stdout",
     "output_type": "stream",
     "text": [
      "[9 6 3 ..., 4 0 1]\n"
     ]
    }
   ],
   "source": [
    "pred_prueba = lasagne.layers.get_output(capa_salida, deterministic=True)\n",
    "predict_fn = theano.function([entrada_var], T.argmax(pred_prueba, axis=1))\n",
    "preds = predict_fn(x_test)\n",
    "print preds"
   ]
  },
  {
   "cell_type": "code",
   "execution_count": 145,
   "metadata": {
    "collapsed": false
   },
   "outputs": [
    {
     "name": "stdout",
     "output_type": "stream",
     "text": [
      "[[351   0   1   1   2   0   2   1   0   1]\n",
      " [  0 257   0   1   2   0   4   0   0   0]\n",
      " [  4   0 181   2   4   0   0   1   6   0]\n",
      " [  2   0   3 153   0   8   0   0   0   0]\n",
      " [  0   2   3   0 184   2   3   2   0   4]\n",
      " [  3   0   0   6   0 148   0   0   1   2]\n",
      " [  0   0   1   0   3   1 165   0   0   0]\n",
      " [  1   0   2   1   5   0   0 136   0   2]\n",
      " [  4   0   2   1   1   3   1   0 154   0]\n",
      " [  0   2   0   0   2   0   0   2   3 168]]\n",
      "2007\n"
     ]
    },
    {
     "data": {
      "text/plain": [
       "0.94519182859990036"
      ]
     },
     "execution_count": 145,
     "metadata": {},
     "output_type": "execute_result"
    }
   ],
   "source": [
    "from sklearn.metrics import confusion_matrix\n",
    "print confusion_matrix(y_test, preds)\n",
    "print len(y_test)\n",
    "np.mean(y_test==preds)"
   ]
  },
  {
   "cell_type": "markdown",
   "metadata": {},
   "source": [
    "### Cómo funciona la red ajustada\n",
    "Podemos entender algo del funcionamiento de la red checando los pesos ajustados. Para la primera capa de convolución:"
   ]
  },
  {
   "cell_type": "code",
   "execution_count": 146,
   "metadata": {
    "collapsed": false
   },
   "outputs": [
    {
     "name": "stdout",
     "output_type": "stream",
     "text": [
      "(4, 1, 5, 5)\n",
      "[[[[ 0.09642728  0.23452714  0.2837283   0.16003722  0.04948449]\n",
      "   [-0.02060208  0.03354351  0.17326228  0.27391452  0.1598893 ]\n",
      "   [-0.13475712 -0.12459498 -0.06103342  0.1650167   0.18116301]\n",
      "   [-0.15810223 -0.15359819 -0.16771209  0.00612051  0.14449817]\n",
      "   [-0.14498006 -0.17596141 -0.17098019 -0.0359941   0.06785436]]]\n",
      "\n",
      "\n",
      " [[[-0.13127372 -0.15500669 -0.17200282 -0.16236086 -0.13642721]\n",
      "   [-0.11817954 -0.16961363 -0.179814   -0.16095626 -0.12250211]\n",
      "   [-0.02311717 -0.08708259 -0.10230132 -0.07750539 -0.00046313]\n",
      "   [ 0.17491326  0.13409398  0.16270828  0.16704693  0.13126899]\n",
      "   [ 0.26633781  0.31882304  0.30700171  0.24686037  0.12190816]]]\n",
      "\n",
      "\n",
      " [[[ 0.1323064   0.30855718  0.17518114 -0.03719503 -0.12326548]\n",
      "   [ 0.22515701  0.3772113   0.07050443 -0.13992439 -0.11728659]\n",
      "   [ 0.34243643  0.31658342 -0.09084282 -0.2206139  -0.1603954 ]\n",
      "   [ 0.37613133  0.18092996 -0.19197157 -0.24253042 -0.19257568]\n",
      "   [ 0.30023089  0.05330747 -0.22089949 -0.25965828 -0.19446076]]]\n",
      "\n",
      "\n",
      " [[[-0.01992782  0.15366662  0.18139479 -0.03047141 -0.1490695 ]\n",
      "   [-0.05237671  0.15898523  0.3018921   0.08140588 -0.18579021]\n",
      "   [-0.13042049 -0.00164443  0.27788302  0.27057847  0.01487086]\n",
      "   [-0.19697121 -0.10892355  0.13552675  0.42199567  0.34016135]\n",
      "   [-0.20017882 -0.154324    0.0175114   0.24187307  0.21225235]]]]\n",
      "[[ 0.09642728  0.23452714  0.2837283   0.16003722  0.04948449]\n",
      " [-0.02060208  0.03354351  0.17326228  0.27391452  0.1598893 ]\n",
      " [-0.13475712 -0.12459498 -0.06103342  0.1650167   0.18116301]\n",
      " [-0.15810223 -0.15359819 -0.16771209  0.00612051  0.14449817]\n",
      " [-0.14498006 -0.17596141 -0.17098019 -0.0359941   0.06785436]]\n",
      "0.421996\n",
      "-0.259658\n"
     ]
    },
    {
     "data": {
      "image/png": "[encoded data removed]",
      "text/plain": [
       "<matplotlib.figure.Figure at 0x11bf05a50>"
      ]
     },
     "metadata": {},
     "output_type": "display_data"
    }
   ],
   "source": [
    "import matplotlib.cm as cm\n",
    "import matplotlib.gridspec as gridspec\n",
    "rcParams['figure.figsize'] = (6,10)\n",
    "\n",
    "\n",
    "pesos_1 = capa_conv_1.W.get_value()\n",
    "print pesos_1.shape\n",
    "print pesos_1\n",
    "print pesos_1[0,0,:,:]\n",
    "print np.amax(pesos_1)\n",
    "print np.amin(pesos_1)\n",
    "\n",
    "fig  = plt.figure()\n",
    "num_filt_1 = pesos_1.shape[0]\n",
    "gs = gridspec.GridSpec(1, num_filt_1)\n",
    "ax = [plt.subplot(gs[i]) for i in range(num_filt_1)]\n",
    "gs.update(hspace=0)\n",
    "gs.tight_layout(fig, h_pad=-2.0,w_pad=0.0)\n",
    "for i in range(num_filt_1):\n",
    "    ax[i].imshow(pesos_1[i,0,:,:], cmap = cm.Greys_r, interpolation = 'none')\n",
    "    #ax[i].axis('off')"
   ]
  },
  {
   "cell_type": "markdown",
   "metadata": {},
   "source": [
    "Como vemos, estos son filtros simples que intentan extraer bordes o gradientes en las imágenes. \n",
    "\n",
    "La siguientes capas son más difíciles de entender. En la segunda capa, tenemos 8 filtros para cada una de las ocho imagenes filtradas de la capa anterior:"
   ]
  },
  {
   "cell_type": "code",
   "execution_count": 147,
   "metadata": {
    "collapsed": false
   },
   "outputs": [
    {
     "name": "stdout",
     "output_type": "stream",
     "text": [
      "(10, 4, 5, 5)\n",
      "-0.133736 0.317212\n"
     ]
    }
   ],
   "source": [
    "pesos_2 = capa_conv_2.W.get_value()\n",
    "print pesos_2.shape\n",
    "pesos_2[:,0,:,:]\n",
    "max_w = np.amax(pesos_2)\n",
    "min_w = np.amin(pesos_2)\n",
    "print min_w, max_w"
   ]
  },
  {
   "cell_type": "markdown",
   "metadata": {},
   "source": [
    "Por ejemplo, extraemos los pesos del primer filtro para los datos filtrados de la primera capa anterior:"
   ]
  },
  {
   "cell_type": "code",
   "execution_count": 148,
   "metadata": {
    "collapsed": false
   },
   "outputs": [
    {
     "name": "stdout",
     "output_type": "stream",
     "text": [
      "(5, 5)\n",
      "[[ 0.03717044 -0.013153    0.02267613  0.03157703 -0.00579111]\n",
      " [ 0.00076911 -0.04455549  0.00261637  0.02757239 -0.02497837]\n",
      " [-0.01647919 -0.05436419  0.00249387  0.02090896 -0.05684981]\n",
      " [ 0.02117325 -0.04303981  0.00130811  0.04919351 -0.04921919]\n",
      " [ 0.00701153 -0.03789638 -0.01206587  0.04262687 -0.02424705]]\n"
     ]
    }
   ],
   "source": [
    "W_1 = pesos_2[0,0,:,:]\n",
    "np.set_printoptions(suppress = True)\n",
    "print W_1.shape\n",
    "print W_1[:,:]"
   ]
  },
  {
   "cell_type": "code",
   "execution_count": 149,
   "metadata": {
    "collapsed": false
   },
   "outputs": [
    {
     "name": "stdout",
     "output_type": "stream",
     "text": [
      "4 10\n"
     ]
    },
    {
     "data": {
      "image/png": "[encoded data removed]",
      "text/plain": [
       "<matplotlib.figure.Figure at 0x12086f750>"
      ]
     },
     "metadata": {},
     "output_type": "display_data"
    }
   ],
   "source": [
    "rcParams['figure.figsize'] = (10, 10)\n",
    "\n",
    "fig  = plt.figure()\n",
    "num_filt_2 = pesos_2.shape[0]\n",
    "gs = gridspec.GridSpec(num_filt_1, num_filt_2, wspace=0.0,hspace=0.0)\n",
    "print num_filt_1, num_filt_2\n",
    "ax = [plt.subplot(gs[i]) for i in range(num_filt_1*num_filt_2)]\n",
    "gs.update(hspace=5)\n",
    "gs.tight_layout(fig, h_pad=-7.0,w_pad=-2.0)\n",
    "for i in range(num_filt_1):\n",
    "    for j in range(num_filt_2):\n",
    "        ax[num_filt_2*i+j].imshow(pesos_2[j,i,:,:], cmap = cm.Greys_r, clim=(min_w/2,max_w/2),interpolation='none')\n",
    "        #ax[num_filt_2*i+j].axis('off')"
   ]
  },
  {
   "cell_type": "markdown",
   "metadata": {},
   "source": [
    "### Gráficas de activaciones"
   ]
  },
  {
   "cell_type": "code",
   "execution_count": 150,
   "metadata": {
    "collapsed": false
   },
   "outputs": [
    {
     "name": "stdout",
     "output_type": "stream",
     "text": [
      "(2007, 4, 24, 24)\n",
      "(4, 24, 24)\n",
      "(2007, 10, 4, 4)\n",
      "[6 3 2 6 0 0 0 6 9 6 2 2 4 0 3 1 6 9 6]\n"
     ]
    },
    {
     "data": {
      "image/png": "[encoded data removed]",
      "text/plain": [
       "<matplotlib.figure.Figure at 0x10fdf1b10>"
      ]
     },
     "metadata": {},
     "output_type": "display_data"
    },
    {
     "data": {
      "image/png": "[encoded data removed]",
      "text/plain": [
       "<matplotlib.figure.Figure at 0x11bf54e10>"
      ]
     },
     "metadata": {},
     "output_type": "display_data"
    },
    {
     "data": {
      "image/png": "[encoded data removed]",
      "text/plain": [
       "<matplotlib.figure.Figure at 0x11d490b50>"
      ]
     },
     "metadata": {},
     "output_type": "display_data"
    },
    {
     "data": {
      "image/png": "[encoded data removed]",
      "text/plain": [
       "<matplotlib.figure.Figure at 0x10cc0e290>"
      ]
     },
     "metadata": {},
     "output_type": "display_data"
    },
    {
     "data": {
      "image/png": "[encoded data removed]",
      "text/plain": [
       "<matplotlib.figure.Figure at 0x12013e190>"
      ]
     },
     "metadata": {},
     "output_type": "display_data"
    },
    {
     "data": {
      "image/png": "[encoded data removed]",
      "text/plain": [
       "<matplotlib.figure.Figure at 0x11a39d5d0>"
      ]
     },
     "metadata": {},
     "output_type": "display_data"
    },
    {
     "data": {
      "image/png": "[encoded data removed]",
      "text/plain": [
       "<matplotlib.figure.Figure at 0x11176ff10>"
      ]
     },
     "metadata": {},
     "output_type": "display_data"
    },
    {
     "data": {
      "image/png": "[encoded data removed]",
      "text/plain": [
       "<matplotlib.figure.Figure at 0x11206f790>"
      ]
     },
     "metadata": {},
     "output_type": "display_data"
    },
    {
     "data": {
      "image/png": "[encoded data removed]",
      "text/plain": [
       "<matplotlib.figure.Figure at 0x10e6864d0>"
      ]
     },
     "metadata": {},
     "output_type": "display_data"
    },
    {
     "data": {
      "image/png": "[encoded data removed]",
      "text/plain": [
       "<matplotlib.figure.Figure at 0x11842bf90>"
      ]
     },
     "metadata": {},
     "output_type": "display_data"
    },
    {
     "data": {
      "image/png": "[encoded data removed]",
      "text/plain": [
       "<matplotlib.figure.Figure at 0x10fe30050>"
      ]
     },
     "metadata": {},
     "output_type": "display_data"
    },
    {
     "data": {
      "image/png": "[encoded data removed]",
      "text/plain": [
       "<matplotlib.figure.Figure at 0x10d01d650>"
      ]
     },
     "metadata": {},
     "output_type": "display_data"
    }
   ],
   "source": [
    "\n",
    "salida_c1 = lasagne.layers.get_output(capa_conv_1, deterministic=True)\n",
    "predict_c1 = theano.function([entrada_var], salida_c1)\n",
    "preds_c1 = predict_c1(x_test[:,:,:,:])\n",
    "print preds_c1.shape\n",
    "\n",
    "print preds_c1[11,:,:,:].shape\n",
    "\n",
    "salida_c2 = lasagne.layers.get_output(capa_pool_2, deterministic=True)\n",
    "predict_c2 = theano.function([entrada_var], salida_c2)\n",
    "preds_c2 = predict_c2(x_test[:,:,:,:])\n",
    "print preds_c2.shape\n",
    "max_w = np.amax(preds_c2[:,:,:,:])\n",
    "min_w = np.amin(preds_c2[:,:,:,:])\n",
    "\n",
    "def plot_activ(n_fig):\n",
    "    #rcParams['figure.figsize'] = (2, 3)\n",
    "    #plt.imshow(x_test[n_fig,0,:,:], cmap = cm.Greys_r)\n",
    "    rcParams['figure.figsize'] = (4,4)\n",
    "    ## 1a capa\n",
    "    fig  = plt.figure()\n",
    "    gs = gridspec.GridSpec(1, 4, wspace=0.0,hspace=0.0)\n",
    "    ax = [plt.subplot(gs[i]) for i in range(4)]\n",
    "    for i in range(4):\n",
    "        ax[i].imshow(preds_c1[n_fig,i,:,:])\n",
    "    # 2a capa\n",
    "    rcParams['figure.figsize'] = (12,6)\n",
    "    fig  = plt.figure()\n",
    "    gs = gridspec.GridSpec(1, 10, wspace=0.0,hspace=0.0)\n",
    "    ax = [plt.subplot(gs[i]) for i in range(10)]\n",
    "    gs.tight_layout(fig, h_pad=-0.0,w_pad=-0.0)\n",
    "\n",
    "    for i in range(10):\n",
    "        max_w = np.amax(preds_c2[n_fig,i,:,:])\n",
    "        min_w = np.amin(preds_c2[n_fig,i,:,:])\n",
    "        ax[i].imshow(preds_c2[n_fig,i,:,:], cmap = cm.Greys_r, interpolation='none',\n",
    "                     clim=(min_w,max_w))\n",
    "        ax[i].axis('off')\n",
    "\n",
    "print preds[1:20]\n",
    "plot_activ(11)\n",
    "plot_activ(20)\n",
    "plot_activ(58)\n",
    "plot_activ(13)\n",
    "plot_activ(62)\n",
    "plot_activ(65)\n",
    "\n",
    "\n"
   ]
  },
  {
   "cell_type": "markdown",
   "metadata": {
    "collapsed": true
   },
   "source": [
    "### Regularización dropout\n",
    "\n",
    "Para hacer dropout en el entrenamiento, en lasagne se ponen como capas de dropout. Esto tiene el efecto de escoger una proporción al azar de las entradas y poner sus coeficientes como cero (en el entrenamiento). Esto es una especie de regularización que intenta controlar coadaptación de neuronas (unas dependen de otras fuertemente para dar la salida correcta).\n",
    "\n"
   ]
  },
  {
   "cell_type": "code",
   "execution_count": 159,
   "metadata": {
    "collapsed": false
   },
   "outputs": [],
   "source": [
    "entrada_var = T.tensor4('entradas')\n",
    "respuesta_var = T.ivector('respuesta')\n",
    "\n",
    "capa_entrada = layers.InputLayer((n_lote, 1, im_ancho, im_alto), entrada_var)\n",
    "\n",
    "#capa_dp_0 = layers.DropoutLayer(capa_entrada, p=0.5)\n",
    "\n",
    "np.random.seed(2919235)\n",
    "\n",
    "capa_conv_1 = layers.Conv2DLayer(\n",
    "    capa_entrada,\n",
    "    num_filters = 6,\n",
    "    filter_size = (5,5),\n",
    "    nonlinearity = rectify)\n",
    "\n",
    "capa_pool_1 = layers.MaxPool2DLayer(\n",
    "    capa_conv_1,\n",
    "    pool_size = (2,2)\n",
    ")\n",
    "\n",
    "capa_dp_1 = layers.DropoutLayer(capa_pool_1, p=0.5)\n",
    "\n",
    "capa_conv_2 = layers.Conv2DLayer(\n",
    "    capa_pool_1,\n",
    "    num_filters = 20,\n",
    "    filter_size = (5,5),\n",
    "    nonlinearity = rectify\n",
    ")\n",
    "\n",
    "capa_pool_2 = layers.MaxPool2DLayer(\n",
    "    capa_conv_2,\n",
    "    pool_size = (2,2)\n",
    ")\n",
    "\n",
    "capa_dp_2 = layers.DropoutLayer(capa_pool_2, p=0.5)\n",
    "\n",
    "capa_oculta = layers.DenseLayer(\n",
    "    capa_dp_2,\n",
    "    num_units = 150,\n",
    "    nonlinearity = rectify\n",
    ")\n",
    "\n",
    "capa_dropout = layers.DropoutLayer(capa_oculta, p=0.5)\n",
    "\n",
    "capa_salida = layers.DenseLayer(\n",
    "    capa_dropout,\n",
    "    num_units = 10,\n",
    "    nonlinearity = softmax\n",
    ")\n"
   ]
  },
  {
   "cell_type": "code",
   "execution_count": 160,
   "metadata": {
    "collapsed": false
   },
   "outputs": [
    {
     "name": "stdout",
     "output_type": "stream",
     "text": [
      "Época 1 de 400 tomó 1.939s\n",
      "  pérdida entrenamiento:\t\t2.2837\n",
      "  pérdida validación:   \t\t2.1151\n",
      "  correctos validación: \t\t28.40 %\n",
      "Época 2 de 400 tomó 1.509s\n",
      "  pérdida entrenamiento:\t\t2.0395\n",
      "  pérdida validación:   \t\t1.6946\n",
      "  correctos validación: \t\t48.20 %\n",
      "Época 3 de 400 tomó 1.512s\n",
      "  pérdida entrenamiento:\t\t1.6129\n",
      "  pérdida validación:   \t\t0.9989\n",
      "  correctos validación: \t\t76.65 %\n",
      "Época 4 de 400 tomó 1.511s\n",
      "  pérdida entrenamiento:\t\t1.1061\n",
      "  pérdida validación:   \t\t0.6118\n",
      "  correctos validación: \t\t85.25 %\n",
      "Época 5 de 400 tomó 1.509s\n",
      "  pérdida entrenamiento:\t\t0.7988\n",
      "  pérdida validación:   \t\t0.4379\n",
      "  correctos validación: \t\t88.65 %\n",
      "Época 6 de 400 tomó 1.510s\n",
      "  pérdida entrenamiento:\t\t0.6248\n",
      "  pérdida validación:   \t\t0.3614\n",
      "  correctos validación: \t\t89.80 %\n",
      "Época 7 de 400 tomó 1.509s\n",
      "  pérdida entrenamiento:\t\t0.5097\n",
      "  pérdida validación:   \t\t0.3063\n",
      "  correctos validación: \t\t91.05 %\n",
      "Época 8 de 400 tomó 1.509s\n",
      "  pérdida entrenamiento:\t\t0.4566\n",
      "  pérdida validación:   \t\t0.2827\n",
      "  correctos validación: \t\t91.45 %\n",
      "Época 9 de 400 tomó 1.514s\n",
      "  pérdida entrenamiento:\t\t0.4004\n",
      "  pérdida validación:   \t\t0.2607\n",
      "  correctos validación: \t\t92.25 %\n",
      "Época 10 de 400 tomó 1.511s\n",
      "  pérdida entrenamiento:\t\t0.3699\n",
      "  pérdida validación:   \t\t0.2497\n",
      "  correctos validación: \t\t92.25 %\n",
      "Época 11 de 400 tomó 1.513s\n",
      "  pérdida entrenamiento:\t\t0.3360\n",
      "  pérdida validación:   \t\t0.2365\n",
      "  correctos validación: \t\t92.90 %\n",
      "Época 21 de 400 tomó 1.506s\n",
      "  pérdida entrenamiento:\t\t0.2041\n",
      "  pérdida validación:   \t\t0.1820\n",
      "  correctos validación: \t\t94.60 %\n",
      "Época 31 de 400 tomó 1.509s\n",
      "  pérdida entrenamiento:\t\t0.1630\n",
      "  pérdida validación:   \t\t0.1615\n",
      "  correctos validación: \t\t95.00 %\n",
      "Época 41 de 400 tomó 1.505s\n",
      "  pérdida entrenamiento:\t\t0.1387\n",
      "  pérdida validación:   \t\t0.1474\n",
      "  correctos validación: \t\t95.65 %\n",
      "Época 51 de 400 tomó 1.507s\n",
      "  pérdida entrenamiento:\t\t0.1117\n",
      "  pérdida validación:   \t\t0.1380\n",
      "  correctos validación: \t\t95.95 %\n",
      "Época 61 de 400 tomó 1.509s\n",
      "  pérdida entrenamiento:\t\t0.1014\n",
      "  pérdida validación:   \t\t0.1355\n",
      "  correctos validación: \t\t95.95 %\n",
      "Época 71 de 400 tomó 1.515s\n",
      "  pérdida entrenamiento:\t\t0.0964\n",
      "  pérdida validación:   \t\t0.1284\n",
      "  correctos validación: \t\t96.45 %\n",
      "Época 81 de 400 tomó 1.515s\n",
      "  pérdida entrenamiento:\t\t0.0909\n",
      "  pérdida validación:   \t\t0.1243\n",
      "  correctos validación: \t\t96.35 %\n",
      "Época 91 de 400 tomó 1.570s\n",
      "  pérdida entrenamiento:\t\t0.0831\n",
      "  pérdida validación:   \t\t0.1238\n",
      "  correctos validación: \t\t96.45 %\n",
      "Época 101 de 400 tomó 1.515s\n",
      "  pérdida entrenamiento:\t\t0.0752\n",
      "  pérdida validación:   \t\t0.1194\n",
      "  correctos validación: \t\t96.50 %\n",
      "Época 111 de 400 tomó 1.530s\n",
      "  pérdida entrenamiento:\t\t0.0711\n",
      "  pérdida validación:   \t\t0.1191\n",
      "  correctos validación: \t\t96.65 %\n",
      "Época 121 de 400 tomó 1.552s\n",
      "  pérdida entrenamiento:\t\t0.0698\n",
      "  pérdida validación:   \t\t0.1207\n",
      "  correctos validación: \t\t96.75 %\n",
      "Época 131 de 400 tomó 1.713s\n",
      "  pérdida entrenamiento:\t\t0.0646\n",
      "  pérdida validación:   \t\t0.1175\n",
      "  correctos validación: \t\t96.80 %\n",
      "Época 141 de 400 tomó 1.553s\n",
      "  pérdida entrenamiento:\t\t0.0614\n",
      "  pérdida validación:   \t\t0.1174\n",
      "  correctos validación: \t\t96.85 %\n",
      "Época 151 de 400 tomó 1.553s\n",
      "  pérdida entrenamiento:\t\t0.0587\n",
      "  pérdida validación:   \t\t0.1164\n",
      "  correctos validación: \t\t97.00 %\n",
      "Época 161 de 400 tomó 1.553s\n",
      "  pérdida entrenamiento:\t\t0.0562\n",
      "  pérdida validación:   \t\t0.1164\n",
      "  correctos validación: \t\t96.60 %\n",
      "Época 171 de 400 tomó 1.557s\n",
      "  pérdida entrenamiento:\t\t0.0581\n",
      "  pérdida validación:   \t\t0.1124\n",
      "  correctos validación: \t\t97.00 %\n",
      "Época 181 de 400 tomó 1.575s\n",
      "  pérdida entrenamiento:\t\t0.0507\n",
      "  pérdida validación:   \t\t0.1147\n",
      "  correctos validación: \t\t96.95 %\n",
      "Época 191 de 400 tomó 1.572s\n",
      "  pérdida entrenamiento:\t\t0.0531\n",
      "  pérdida validación:   \t\t0.1127\n",
      "  correctos validación: \t\t96.90 %\n",
      "Época 201 de 400 tomó 1.628s\n",
      "  pérdida entrenamiento:\t\t0.0517\n",
      "  pérdida validación:   \t\t0.1117\n",
      "  correctos validación: \t\t96.95 %\n",
      "Época 211 de 400 tomó 1.607s\n",
      "  pérdida entrenamiento:\t\t0.0446\n",
      "  pérdida validación:   \t\t0.1130\n",
      "  correctos validación: \t\t96.95 %\n",
      "Época 221 de 400 tomó 1.585s\n",
      "  pérdida entrenamiento:\t\t0.0459\n",
      "  pérdida validación:   \t\t0.1098\n",
      "  correctos validación: \t\t97.15 %\n",
      "Época 231 de 400 tomó 1.572s\n",
      "  pérdida entrenamiento:\t\t0.0407\n",
      "  pérdida validación:   \t\t0.1128\n",
      "  correctos validación: \t\t96.95 %\n",
      "Época 241 de 400 tomó 1.574s\n",
      "  pérdida entrenamiento:\t\t0.0508\n",
      "  pérdida validación:   \t\t0.1096\n",
      "  correctos validación: \t\t97.05 %\n",
      "Época 251 de 400 tomó 1.574s\n",
      "  pérdida entrenamiento:\t\t0.0494\n",
      "  pérdida validación:   \t\t0.1106\n",
      "  correctos validación: \t\t96.90 %\n",
      "Época 261 de 400 tomó 1.794s\n",
      "  pérdida entrenamiento:\t\t0.0399\n",
      "  pérdida validación:   \t\t0.1104\n",
      "  correctos validación: \t\t97.05 %\n",
      "Época 271 de 400 tomó 1.573s\n",
      "  pérdida entrenamiento:\t\t0.0472\n",
      "  pérdida validación:   \t\t0.1079\n",
      "  correctos validación: \t\t97.05 %\n",
      "Época 281 de 400 tomó 1.574s\n",
      "  pérdida entrenamiento:\t\t0.0441\n",
      "  pérdida validación:   \t\t0.1130\n",
      "  correctos validación: \t\t96.95 %\n",
      "Época 291 de 400 tomó 1.573s\n",
      "  pérdida entrenamiento:\t\t0.0429\n",
      "  pérdida validación:   \t\t0.1095\n",
      "  correctos validación: \t\t96.90 %\n",
      "Época 301 de 400 tomó 1.573s\n",
      "  pérdida entrenamiento:\t\t0.0475\n",
      "  pérdida validación:   \t\t0.1106\n",
      "  correctos validación: \t\t96.70 %\n",
      "Época 311 de 400 tomó 1.575s\n",
      "  pérdida entrenamiento:\t\t0.0398\n",
      "  pérdida validación:   \t\t0.1093\n",
      "  correctos validación: \t\t97.00 %\n",
      "Época 321 de 400 tomó 1.570s\n",
      "  pérdida entrenamiento:\t\t0.0413\n",
      "  pérdida validación:   \t\t0.1070\n",
      "  correctos validación: \t\t97.15 %\n",
      "Época 331 de 400 tomó 1.589s\n",
      "  pérdida entrenamiento:\t\t0.0395\n",
      "  pérdida validación:   \t\t0.1106\n",
      "  correctos validación: \t\t96.85 %\n",
      "Época 341 de 400 tomó 1.572s\n",
      "  pérdida entrenamiento:\t\t0.0400\n",
      "  pérdida validación:   \t\t0.1078\n",
      "  correctos validación: \t\t97.35 %\n",
      "Época 351 de 400 tomó 1.571s\n",
      "  pérdida entrenamiento:\t\t0.0360\n",
      "  pérdida validación:   \t\t0.1086\n",
      "  correctos validación: \t\t97.25 %\n",
      "Época 361 de 400 tomó 1.571s\n",
      "  pérdida entrenamiento:\t\t0.0410\n",
      "  pérdida validación:   \t\t0.1083\n",
      "  correctos validación: \t\t97.05 %\n",
      "Época 371 de 400 tomó 1.572s\n",
      "  pérdida entrenamiento:\t\t0.0397\n",
      "  pérdida validación:   \t\t0.1083\n",
      "  correctos validación: \t\t97.05 %\n",
      "Época 381 de 400 tomó 1.572s\n",
      "  pérdida entrenamiento:\t\t0.0349\n",
      "  pérdida validación:   \t\t0.1087\n",
      "  correctos validación: \t\t97.10 %\n",
      "Época 391 de 400 tomó 1.553s\n",
      "  pérdida entrenamiento:\t\t0.0357\n",
      "  pérdida validación:   \t\t0.1093\n",
      "  correctos validación: \t\t96.95 %\n"
     ]
    }
   ],
   "source": [
    "pred_2 = lasagne.layers.get_output(capa_salida)\n",
    "perdida_2 = lasagne.objectives.categorical_crossentropy(pred_2, respuesta_var)\n",
    "perdida_2 = perdida_2.mean()\n",
    "reg_layers = {capa_oculta:0.001,capa_conv_1:0.001, capa_conv_2:0.001, \n",
    "              capa_salida:0.001}\n",
    "l2_penalty = regularize_layer_params_weighted(reg_layers, l2)\n",
    "perdida_reg_2 = perdida_2 + l2_penalty\n",
    "\n",
    "# en la siguiente línea deterministic = True, para usar todas las neuronas \n",
    "# al predecir en muestra de prueba\n",
    "prueba_pred = lasagne.layers.get_output(capa_salida, deterministic=True)\n",
    "perdida_pr_2 = lasagne.objectives.categorical_crossentropy(prueba_pred, respuesta_var)\n",
    "perdida_pr_2 = perdida_pr_2.mean()\n",
    "test_acc = T.mean(T.eq(T.argmax(prueba_pred, axis=1), respuesta_var))\n",
    "\n",
    "params_2 =lasagne.layers.get_all_params(capa_salida, trainable = True)\n",
    "updates_2 = lasagne.updates.nesterov_momentum(perdida_reg_2, params_2, learning_rate=0.01,\n",
    "                                              momentum=0.9)\n",
    "\n",
    "entrena_fn_2 = theano.function([entrada_var, respuesta_var], perdida_2, updates=updates_2)\n",
    "valid_fn_2 = theano.function([entrada_var, respuesta_var], [perdida_pr_2, test_acc])\n",
    "\n",
    "ajustar_red(400, x_train,y_train, x_test,y_test, entrena_fn_2, valid_fn_2)\n"
   ]
  },
  {
   "cell_type": "code",
   "execution_count": 163,
   "metadata": {
    "collapsed": false
   },
   "outputs": [
    {
     "name": "stdout",
     "output_type": "stream",
     "text": [
      "(6, 1, 5, 5)\n"
     ]
    },
    {
     "data": {
      "image/png": "[encoded data removed]",
      "text/plain": [
       "<matplotlib.figure.Figure at 0x10d5dcd50>"
      ]
     },
     "metadata": {},
     "output_type": "display_data"
    }
   ],
   "source": [
    "\n",
    "import matplotlib.cm as cm\n",
    "import matplotlib.gridspec as gridspec\n",
    "pesos_1 = capa_conv_1.W.get_value()\n",
    "print pesos_1.shape\n",
    "\n",
    "rcParams['figure.figsize'] = (4,4)\n",
    "fig  = plt.figure()\n",
    "num_filt_1 = pesos_1.shape[0]\n",
    "gs = gridspec.GridSpec(1, num_filt_1)\n",
    "ax = [plt.subplot(gs[i]) for i in range(num_filt_1)]\n",
    "gs.update(hspace=0)\n",
    "gs.tight_layout(fig, h_pad=-2.0,w_pad=-2.0)\n",
    "for i in range(num_filt_1):\n",
    "    ax[i].imshow(pesos_1[i,0,:,:], cmap = cm.Greys_r, interpolation = 'none')\n",
    "    ax[i].axis('off')"
   ]
  },
  {
   "cell_type": "code",
   "execution_count": 164,
   "metadata": {
    "collapsed": false
   },
   "outputs": [
    {
     "name": "stdout",
     "output_type": "stream",
     "text": [
      "[[352   0   3   0   1   0   2   0   0   1]\n",
      " [  0 259   0   0   2   0   2   1   0   0]\n",
      " [  0   1 191   1   0   1   0   1   3   0]\n",
      " [  0   0   1 161   0   4   0   0   0   0]\n",
      " [  0   1   2   0 190   1   1   1   0   4]\n",
      " [  2   0   0   2   0 153   0   0   2   1]\n",
      " [  0   0   1   0   2   0 167   0   0   0]\n",
      " [  0   0   0   1   5   0   0 141   0   0]\n",
      " [  2   1   1   1   0   0   1   0 160   0]\n",
      " [  0   0   0   0   0   1   0   1   1 174]]\n",
      "2007\n"
     ]
    },
    {
     "data": {
      "text/plain": [
       "0.97060288988540111"
      ]
     },
     "execution_count": 164,
     "metadata": {},
     "output_type": "execute_result"
    }
   ],
   "source": [
    "pred_prueba = lasagne.layers.get_output(capa_salida, deterministic=True)\n",
    "predict_fn = theano.function([entrada_var], T.argmax(pred_prueba, axis=1))\n",
    "preds = predict_fn(x_test)\n",
    "print confusion_matrix(y_test, preds)\n",
    "print len(y_test)\n",
    "np.mean(y_test==preds)"
   ]
  },
  {
   "cell_type": "markdown",
   "metadata": {},
   "source": [
    "### Referencias\n",
    "\n",
    "- [Redes convolucionales](https://www.youtube.com/watch?v=bEUX_56Lojc)\n",
    "- [Documentación de Lasagne](http://lasagne.readthedocs.org)\n",
    "- [Dropout](https://www.cs.toronto.edu/~hinton/absps/JMLRdropout.pdf)\n",
    "- [Descenso con mini-lotes](https://class.coursera.org/neuralnets-2012-001/lecture/59)\n",
    "- [Métodos de momento para mejorar descenso estocástico](https://class.coursera.org/neuralnets-2012-001/lecture/63)\n",
    "- [Detección de objetos en imágenes]()\n",
    "- [Visualización de redes convolucionales](https://www.cs.nyu.edu/~fergus/papers/zeilerECCV2014.pdf)\n"
   ]
  },
  {
   "cell_type": "code",
   "execution_count": null,
   "metadata": {
    "collapsed": true
   },
   "outputs": [],
   "source": []
  }
 ],
 "metadata": {
  "kernelspec": {
   "display_name": "Python 2",
   "language": "python",
   "name": "python2"
  },
  "language_info": {
   "codemirror_mode": {
    "name": "ipython",
    "version": 2
   },
   "file_extension": ".py",
   "mimetype": "text/x-python",
   "name": "python",
   "nbconvert_exporter": "python",
   "pygments_lexer": "ipython2",
   "version": "2.7.10"
  }
 },
 "nbformat": 4,
 "nbformat_minor": 0
}
