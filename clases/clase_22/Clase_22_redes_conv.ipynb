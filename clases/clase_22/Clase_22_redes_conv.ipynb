{
 "cells": [
  {
   "cell_type": "markdown",
   "metadata": {},
   "source": [
    "# Redes convolucionales: primer ejemplo"
   ]
  },
  {
   "cell_type": "markdown",
   "metadata": {},
   "source": [
    "Veremos el primer ejemplo exitoso de aplicación de redes convolucionales. Este ejemplo es una red relativamente chica, y trata de reconocimiento de dígitos representados por imágenes de 16x16. Esta demostración está derivada de los ejemplos de `lasagne` que se pueden encontrar al instalarla."
   ]
  },
  {
   "cell_type": "markdown",
   "metadata": {},
   "source": [
    "### Preparación de datos\n",
    "\n",
    "Cargamos los datos a un dataframe de pandas. Los datos fueron extraídos del paquete ElemStatLearn de R."
   ]
  },
  {
   "cell_type": "code",
   "execution_count": 1,
   "metadata": {
    "collapsed": false
   },
   "outputs": [
    {
     "name": "stdout",
     "output_type": "stream",
     "text": [
      "(7291, 257)\n",
      "(2007, 257)\n"
     ]
    },
    {
     "data": {
      "text/html": [
       "<div>\n",
       "<table border=\"1\" class=\"dataframe\">\n",
       "  <thead>\n",
       "    <tr style=\"text-align: right;\">\n",
       "      <th></th>\n",
       "      <th>X1</th>\n",
       "      <th>X2</th>\n",
       "      <th>X3</th>\n",
       "      <th>X4</th>\n",
       "      <th>X5</th>\n",
       "      <th>X6</th>\n",
       "      <th>X7</th>\n",
       "      <th>X8</th>\n",
       "      <th>X9</th>\n",
       "      <th>X10</th>\n",
       "      <th>...</th>\n",
       "      <th>X248</th>\n",
       "      <th>X249</th>\n",
       "      <th>X250</th>\n",
       "      <th>X251</th>\n",
       "      <th>X252</th>\n",
       "      <th>X253</th>\n",
       "      <th>X254</th>\n",
       "      <th>X255</th>\n",
       "      <th>X256</th>\n",
       "      <th>X257</th>\n",
       "    </tr>\n",
       "  </thead>\n",
       "  <tbody>\n",
       "    <tr>\n",
       "      <th>0</th>\n",
       "      <td>6</td>\n",
       "      <td>-1</td>\n",
       "      <td>-1</td>\n",
       "      <td>-1</td>\n",
       "      <td>-1.000</td>\n",
       "      <td>-1.000</td>\n",
       "      <td>-1.000</td>\n",
       "      <td>-1.000</td>\n",
       "      <td>-0.631</td>\n",
       "      <td>0.862</td>\n",
       "      <td>...</td>\n",
       "      <td>0.304</td>\n",
       "      <td>0.823</td>\n",
       "      <td>1.000</td>\n",
       "      <td>0.482</td>\n",
       "      <td>-0.474</td>\n",
       "      <td>-0.991</td>\n",
       "      <td>-1.000</td>\n",
       "      <td>-1.000</td>\n",
       "      <td>-1.000</td>\n",
       "      <td>-1</td>\n",
       "    </tr>\n",
       "    <tr>\n",
       "      <th>1</th>\n",
       "      <td>5</td>\n",
       "      <td>-1</td>\n",
       "      <td>-1</td>\n",
       "      <td>-1</td>\n",
       "      <td>-0.813</td>\n",
       "      <td>-0.671</td>\n",
       "      <td>-0.809</td>\n",
       "      <td>-0.887</td>\n",
       "      <td>-0.671</td>\n",
       "      <td>-0.853</td>\n",
       "      <td>...</td>\n",
       "      <td>-0.671</td>\n",
       "      <td>-0.671</td>\n",
       "      <td>-0.033</td>\n",
       "      <td>0.761</td>\n",
       "      <td>0.762</td>\n",
       "      <td>0.126</td>\n",
       "      <td>-0.095</td>\n",
       "      <td>-0.671</td>\n",
       "      <td>-0.828</td>\n",
       "      <td>-1</td>\n",
       "    </tr>\n",
       "    <tr>\n",
       "      <th>2</th>\n",
       "      <td>4</td>\n",
       "      <td>-1</td>\n",
       "      <td>-1</td>\n",
       "      <td>-1</td>\n",
       "      <td>-1.000</td>\n",
       "      <td>-1.000</td>\n",
       "      <td>-1.000</td>\n",
       "      <td>-1.000</td>\n",
       "      <td>-1.000</td>\n",
       "      <td>-1.000</td>\n",
       "      <td>...</td>\n",
       "      <td>-1.000</td>\n",
       "      <td>-1.000</td>\n",
       "      <td>-1.000</td>\n",
       "      <td>-0.109</td>\n",
       "      <td>1.000</td>\n",
       "      <td>-0.179</td>\n",
       "      <td>-1.000</td>\n",
       "      <td>-1.000</td>\n",
       "      <td>-1.000</td>\n",
       "      <td>-1</td>\n",
       "    </tr>\n",
       "    <tr>\n",
       "      <th>3</th>\n",
       "      <td>7</td>\n",
       "      <td>-1</td>\n",
       "      <td>-1</td>\n",
       "      <td>-1</td>\n",
       "      <td>-1.000</td>\n",
       "      <td>-1.000</td>\n",
       "      <td>-0.273</td>\n",
       "      <td>0.684</td>\n",
       "      <td>0.960</td>\n",
       "      <td>0.450</td>\n",
       "      <td>...</td>\n",
       "      <td>-0.318</td>\n",
       "      <td>1.000</td>\n",
       "      <td>0.536</td>\n",
       "      <td>-0.987</td>\n",
       "      <td>-1.000</td>\n",
       "      <td>-1.000</td>\n",
       "      <td>-1.000</td>\n",
       "      <td>-1.000</td>\n",
       "      <td>-1.000</td>\n",
       "      <td>-1</td>\n",
       "    </tr>\n",
       "    <tr>\n",
       "      <th>4</th>\n",
       "      <td>3</td>\n",
       "      <td>-1</td>\n",
       "      <td>-1</td>\n",
       "      <td>-1</td>\n",
       "      <td>-1.000</td>\n",
       "      <td>-1.000</td>\n",
       "      <td>-0.928</td>\n",
       "      <td>-0.204</td>\n",
       "      <td>0.751</td>\n",
       "      <td>0.466</td>\n",
       "      <td>...</td>\n",
       "      <td>0.466</td>\n",
       "      <td>0.639</td>\n",
       "      <td>1.000</td>\n",
       "      <td>1.000</td>\n",
       "      <td>0.791</td>\n",
       "      <td>0.439</td>\n",
       "      <td>-0.199</td>\n",
       "      <td>-0.883</td>\n",
       "      <td>-1.000</td>\n",
       "      <td>-1</td>\n",
       "    </tr>\n",
       "    <tr>\n",
       "      <th>...</th>\n",
       "      <td>...</td>\n",
       "      <td>...</td>\n",
       "      <td>...</td>\n",
       "      <td>...</td>\n",
       "      <td>...</td>\n",
       "      <td>...</td>\n",
       "      <td>...</td>\n",
       "      <td>...</td>\n",
       "      <td>...</td>\n",
       "      <td>...</td>\n",
       "      <td>...</td>\n",
       "      <td>...</td>\n",
       "      <td>...</td>\n",
       "      <td>...</td>\n",
       "      <td>...</td>\n",
       "      <td>...</td>\n",
       "      <td>...</td>\n",
       "      <td>...</td>\n",
       "      <td>...</td>\n",
       "      <td>...</td>\n",
       "      <td>...</td>\n",
       "    </tr>\n",
       "    <tr>\n",
       "      <th>7286</th>\n",
       "      <td>3</td>\n",
       "      <td>-1</td>\n",
       "      <td>-1</td>\n",
       "      <td>-1</td>\n",
       "      <td>-0.988</td>\n",
       "      <td>-0.527</td>\n",
       "      <td>-0.208</td>\n",
       "      <td>0.620</td>\n",
       "      <td>1.000</td>\n",
       "      <td>0.467</td>\n",
       "      <td>...</td>\n",
       "      <td>-0.116</td>\n",
       "      <td>0.899</td>\n",
       "      <td>0.416</td>\n",
       "      <td>-0.510</td>\n",
       "      <td>-1.000</td>\n",
       "      <td>-1.000</td>\n",
       "      <td>-1.000</td>\n",
       "      <td>-1.000</td>\n",
       "      <td>-1.000</td>\n",
       "      <td>-1</td>\n",
       "    </tr>\n",
       "    <tr>\n",
       "      <th>7287</th>\n",
       "      <td>3</td>\n",
       "      <td>-1</td>\n",
       "      <td>-1</td>\n",
       "      <td>-1</td>\n",
       "      <td>-0.990</td>\n",
       "      <td>0.708</td>\n",
       "      <td>0.557</td>\n",
       "      <td>0.347</td>\n",
       "      <td>-0.107</td>\n",
       "      <td>-0.758</td>\n",
       "      <td>...</td>\n",
       "      <td>0.697</td>\n",
       "      <td>0.636</td>\n",
       "      <td>0.167</td>\n",
       "      <td>-0.968</td>\n",
       "      <td>-1.000</td>\n",
       "      <td>-1.000</td>\n",
       "      <td>-1.000</td>\n",
       "      <td>-1.000</td>\n",
       "      <td>-1.000</td>\n",
       "      <td>-1</td>\n",
       "    </tr>\n",
       "    <tr>\n",
       "      <th>7288</th>\n",
       "      <td>3</td>\n",
       "      <td>-1</td>\n",
       "      <td>-1</td>\n",
       "      <td>-1</td>\n",
       "      <td>-0.783</td>\n",
       "      <td>-0.984</td>\n",
       "      <td>-0.827</td>\n",
       "      <td>0.068</td>\n",
       "      <td>1.000</td>\n",
       "      <td>1.000</td>\n",
       "      <td>...</td>\n",
       "      <td>0.805</td>\n",
       "      <td>1.000</td>\n",
       "      <td>1.000</td>\n",
       "      <td>0.727</td>\n",
       "      <td>-0.342</td>\n",
       "      <td>-0.933</td>\n",
       "      <td>-1.000</td>\n",
       "      <td>-1.000</td>\n",
       "      <td>-1.000</td>\n",
       "      <td>-1</td>\n",
       "    </tr>\n",
       "    <tr>\n",
       "      <th>7289</th>\n",
       "      <td>0</td>\n",
       "      <td>-1</td>\n",
       "      <td>-1</td>\n",
       "      <td>-1</td>\n",
       "      <td>-1.000</td>\n",
       "      <td>-1.000</td>\n",
       "      <td>-0.549</td>\n",
       "      <td>0.463</td>\n",
       "      <td>0.999</td>\n",
       "      <td>0.999</td>\n",
       "      <td>...</td>\n",
       "      <td>-0.231</td>\n",
       "      <td>0.621</td>\n",
       "      <td>0.999</td>\n",
       "      <td>-0.042</td>\n",
       "      <td>-0.231</td>\n",
       "      <td>-0.687</td>\n",
       "      <td>-1.000</td>\n",
       "      <td>-1.000</td>\n",
       "      <td>-1.000</td>\n",
       "      <td>-1</td>\n",
       "    </tr>\n",
       "    <tr>\n",
       "      <th>7290</th>\n",
       "      <td>1</td>\n",
       "      <td>-1</td>\n",
       "      <td>-1</td>\n",
       "      <td>-1</td>\n",
       "      <td>-1.000</td>\n",
       "      <td>-1.000</td>\n",
       "      <td>-0.108</td>\n",
       "      <td>1.000</td>\n",
       "      <td>0.616</td>\n",
       "      <td>-0.867</td>\n",
       "      <td>...</td>\n",
       "      <td>-0.634</td>\n",
       "      <td>0.803</td>\n",
       "      <td>0.589</td>\n",
       "      <td>-0.907</td>\n",
       "      <td>-1.000</td>\n",
       "      <td>-1.000</td>\n",
       "      <td>-1.000</td>\n",
       "      <td>-1.000</td>\n",
       "      <td>-1.000</td>\n",
       "      <td>-1</td>\n",
       "    </tr>\n",
       "  </tbody>\n",
       "</table>\n",
       "<p>7291 rows × 257 columns</p>\n",
       "</div>"
      ],
      "text/plain": [
       "      X1  X2  X3  X4     X5     X6     X7     X8     X9    X10  ...    X248  \\\n",
       "0      6  -1  -1  -1 -1.000 -1.000 -1.000 -1.000 -0.631  0.862  ...   0.304   \n",
       "1      5  -1  -1  -1 -0.813 -0.671 -0.809 -0.887 -0.671 -0.853  ...  -0.671   \n",
       "2      4  -1  -1  -1 -1.000 -1.000 -1.000 -1.000 -1.000 -1.000  ...  -1.000   \n",
       "3      7  -1  -1  -1 -1.000 -1.000 -0.273  0.684  0.960  0.450  ...  -0.318   \n",
       "4      3  -1  -1  -1 -1.000 -1.000 -0.928 -0.204  0.751  0.466  ...   0.466   \n",
       "...   ..  ..  ..  ..    ...    ...    ...    ...    ...    ...  ...     ...   \n",
       "7286   3  -1  -1  -1 -0.988 -0.527 -0.208  0.620  1.000  0.467  ...  -0.116   \n",
       "7287   3  -1  -1  -1 -0.990  0.708  0.557  0.347 -0.107 -0.758  ...   0.697   \n",
       "7288   3  -1  -1  -1 -0.783 -0.984 -0.827  0.068  1.000  1.000  ...   0.805   \n",
       "7289   0  -1  -1  -1 -1.000 -1.000 -0.549  0.463  0.999  0.999  ...  -0.231   \n",
       "7290   1  -1  -1  -1 -1.000 -1.000 -0.108  1.000  0.616 -0.867  ...  -0.634   \n",
       "\n",
       "       X249   X250   X251   X252   X253   X254   X255   X256  X257  \n",
       "0     0.823  1.000  0.482 -0.474 -0.991 -1.000 -1.000 -1.000    -1  \n",
       "1    -0.671 -0.033  0.761  0.762  0.126 -0.095 -0.671 -0.828    -1  \n",
       "2    -1.000 -1.000 -0.109  1.000 -0.179 -1.000 -1.000 -1.000    -1  \n",
       "3     1.000  0.536 -0.987 -1.000 -1.000 -1.000 -1.000 -1.000    -1  \n",
       "4     0.639  1.000  1.000  0.791  0.439 -0.199 -0.883 -1.000    -1  \n",
       "...     ...    ...    ...    ...    ...    ...    ...    ...   ...  \n",
       "7286  0.899  0.416 -0.510 -1.000 -1.000 -1.000 -1.000 -1.000    -1  \n",
       "7287  0.636  0.167 -0.968 -1.000 -1.000 -1.000 -1.000 -1.000    -1  \n",
       "7288  1.000  1.000  0.727 -0.342 -0.933 -1.000 -1.000 -1.000    -1  \n",
       "7289  0.621  0.999 -0.042 -0.231 -0.687 -1.000 -1.000 -1.000    -1  \n",
       "7290  0.803  0.589 -0.907 -1.000 -1.000 -1.000 -1.000 -1.000    -1  \n",
       "\n",
       "[7291 rows x 257 columns]"
      ]
     },
     "execution_count": 1,
     "metadata": {},
     "output_type": "execute_result"
    }
   ],
   "source": [
    "import time\n",
    "import numpy as np\n",
    "import matplotlib.pyplot as plt\n",
    "from matplotlib import rcParams\n",
    "\n",
    "\n",
    "import pandas as pd\n",
    "pd.options.display.max_rows = 10\n",
    "\n",
    "\n",
    "df_train = pd.read_csv('zip_train.csv', sep=',')\n",
    "df_test = pd.read_csv('zip_test.csv', sep=',')\n",
    "print df_train.shape\n",
    "print df_test.shape\n",
    "df_train"
   ]
  },
  {
   "cell_type": "markdown",
   "metadata": {},
   "source": [
    "Extraemos las columnas con las intensidades de los pixeles y los convertimos en vectores de np, y extraemos también las etiquetas:"
   ]
  },
  {
   "cell_type": "code",
   "execution_count": 2,
   "metadata": {
    "collapsed": false
   },
   "outputs": [
    {
     "name": "stdout",
     "output_type": "stream",
     "text": [
      "(7291, 256)\n",
      "[[-1.         -1.         -1.         ..., -1.         -1.         -1.        ]\n",
      " [-1.         -1.         -1.         ..., -0.671      -0.82800001 -1.        ]\n",
      " [-1.         -1.         -1.         ..., -1.         -1.         -1.        ]\n",
      " ..., \n",
      " [-1.         -1.         -1.         ..., -1.         -1.         -1.        ]\n",
      " [-1.         -1.         -1.         ..., -1.         -1.         -1.        ]\n",
      " [-1.         -1.         -1.         ..., -1.         -1.         -1.        ]]\n",
      "[6 5 4 ..., 3 0 1]\n"
     ]
    }
   ],
   "source": [
    "x_train_1 = np.float32(df_train.iloc[:,1:257].values)\n",
    "x_test_1 = np.float32(df_test.iloc[:,1:257].values)\n",
    "y_train = np.int32(df_train['X1'])\n",
    "y_test = np.int32(df_test['X1'])\n",
    "\n",
    "print x_train_1.shape\n",
    "print x_train_1\n",
    "print y_train\n"
   ]
  },
  {
   "cell_type": "markdown",
   "metadata": {},
   "source": [
    "Ahora graficamos los datos. Nótese que en este ejemplo rellenamos pixeles oscuros alrededor de la imagen. Esto lo hacemos para poder hacer la convolución 5x5 sobre todos los pixeles de la imagen (también puede rellenarse con tamaño 4, para hacer convoluciones que cubran todos los pixeles en todas las posibles posiciones:"
   ]
  },
  {
   "cell_type": "code",
   "execution_count": 3,
   "metadata": {
    "collapsed": false
   },
   "outputs": [
    {
     "data": {
      "image/png": "[encoded data removed]",
      "text/plain": [
       "<matplotlib.figure.Figure at 0x1082ba2d0>"
      ]
     },
     "metadata": {},
     "output_type": "display_data"
    },
    {
     "name": "stdout",
     "output_type": "stream",
     "text": [
      "6\n"
     ]
    }
   ],
   "source": [
    "%matplotlib inline\n",
    "plt.imshow(np.lib.pad(x_train_1[0,].reshape(16,16), (6,6), mode='constant', constant_values=-1))\n",
    "plt.show()\n",
    "print y_train[0]"
   ]
  },
  {
   "cell_type": "markdown",
   "metadata": {},
   "source": [
    "Aquí hacemos el relleno (padding) de las imagenes, y las convertimos a matrices de 16x16. Nótese que ahora los conjuntos de entrenamiento y prueba son arreglos de 4 dimensiones (número de casos, 1, alto de imagen, ancho de imagen). Si fueran imágenes a color la segunda dimensión sería de tamaño 3 en lugar de 1"
   ]
  },
  {
   "cell_type": "code",
   "execution_count": 4,
   "metadata": {
    "collapsed": false
   },
   "outputs": [
    {
     "name": "stdout",
     "output_type": "stream",
     "text": [
      "(28, 28)\n",
      "(7291, 1, 28, 28)\n",
      "(2007, 1, 28, 28)\n"
     ]
    }
   ],
   "source": [
    "n_pad = 6\n",
    "x_train = np.pad(x_train_1.reshape(x_train_1.shape[0], 1, 16, 16), \n",
    "                 ((0,0),(0,0),(n_pad,n_pad),(n_pad,n_pad)), mode='constant', constant_values=-1)\n",
    "x_test = np.pad(x_test_1.reshape(x_test_1.shape[0], 1, 16, 16), \n",
    "                ((0,0),(0,0),(n_pad,n_pad),(n_pad,n_pad)), mode='constant', constant_values=-1)\n",
    "#x_train = x_train_1.reshape(x_train_1.shape[0], 1, 16, 16)+1\n",
    "#x_test = x_test_1.reshape(x_test_1.shape[0], 1, 16, 16)+1\n",
    "\n",
    "print x_train[5][0].shape\n",
    "print x_train.shape\n",
    "print x_test.shape\n",
    "#x_train[5][0]"
   ]
  },
  {
   "cell_type": "markdown",
   "metadata": {},
   "source": [
    "Necesitamos una función para iterar sobre los datos en mini-lotes. Esta función es un iterador:"
   ]
  },
  {
   "cell_type": "code",
   "execution_count": 5,
   "metadata": {
    "collapsed": true
   },
   "outputs": [],
   "source": [
    "def iterar_minilotes(entradas, respuesta, n_lote, mezclar):\n",
    "    if mezclar:\n",
    "        indices = np.arange(len(entradas))\n",
    "        np.random.shuffle(indices)\n",
    "    for i in range(0, len(entradas) - n_lote + 1, n_lote):\n",
    "        if mezclar:\n",
    "            parte = indices[i:i + n_lote]\n",
    "        else:\n",
    "            parte = slice(i, i + n_lote)\n",
    "        yield entradas[parte], respuesta[parte]"
   ]
  },
  {
   "cell_type": "code",
   "execution_count": 6,
   "metadata": {
    "collapsed": false
   },
   "outputs": [
    {
     "name": "stdout",
     "output_type": "stream",
     "text": [
      "[0 9 9 6 0 9]\n",
      "[0 0 0 5 6 8]\n",
      "[4 1 2 7 2 3]\n"
     ]
    }
   ],
   "source": [
    "it = iterar_minilotes(x_train, y_train, 6, mezclar = True)\n",
    "a,b = it.next()\n",
    "print b\n",
    "a,b = it.next()\n",
    "print b\n",
    "a,b = it.next()\n",
    "print b\n",
    "\n",
    "for a,b in it:\n",
    "    pass\n"
   ]
  },
  {
   "cell_type": "markdown",
   "metadata": {},
   "source": [
    " ### Arquitectura de red\n",
    " \n",
    " El código que sigue está derivado de los [ejemplos de lasagne](https://github.com/Lasagne/Lasagne/blob/master/examples/mnist.py). Empezamos cargando las librerías que necesitamos. Nótese el mensaje de que el GPU fue reconocido:"
   ]
  },
  {
   "cell_type": "code",
   "execution_count": 7,
   "metadata": {
    "collapsed": false
   },
   "outputs": [
    {
     "name": "stderr",
     "output_type": "stream",
     "text": [
      "Using gpu device 0: GeForce GT 750M (CNMeM is disabled)\n"
     ]
    }
   ],
   "source": [
    "import lasagne\n",
    "from lasagne import layers\n",
    "from lasagne.nonlinearities import  softmax, rectify, sigmoid\n",
    "import theano\n",
    "import theano.tensor as T\n",
    "from lasagne.regularization import regularize_layer_params_weighted, l2"
   ]
  },
  {
   "cell_type": "markdown",
   "metadata": {},
   "source": [
    "Definimos variables para el tamaño de los datos de entrada y para el tamaño de lote:"
   ]
  },
  {
   "cell_type": "code",
   "execution_count": 8,
   "metadata": {
    "collapsed": true
   },
   "outputs": [],
   "source": [
    "im_ancho = 16 + 2*n_pad\n",
    "im_alto = 16 + 2*n_pad"
   ]
  },
  {
   "cell_type": "code",
   "execution_count": 9,
   "metadata": {
    "collapsed": false
   },
   "outputs": [],
   "source": [
    "n_lote=400"
   ]
  },
  {
   "cell_type": "markdown",
   "metadata": {},
   "source": [
    "Definimos ahora la arquitectura de la red, que en este primer ejemplo tiene:\n",
    "\n",
    "1. una capa de convolución con 8 filtros, \n",
    "2. una capa de max pooling, luego \n",
    "3. una capa de convolución con 30 filtros, \n",
    "4. una capa de max pooling, \n",
    "5. una capa oculta totalmente conectada con 100 unidades, y finalmente \n",
    "6. la capa de salida que es totalmente conectada:"
   ]
  },
  {
   "cell_type": "code",
   "execution_count": 10,
   "metadata": {
    "collapsed": false
   },
   "outputs": [],
   "source": [
    "# Esto da la forma de entradas: los datos de entrada son de dmensión \n",
    "# num_casos x 1 x im_alto x im_anch0\n",
    "# para imagenes en color es num_casos x 3 x im_alto x im_ancho (3=rgb)\n",
    "entrada_var = T.tensor4('entradas')\n",
    "respuesta_var = T.ivector('respuesta')\n",
    "\n",
    "# Poner semilla, pues abajo se inicializan al azar los pesos\n",
    "\n",
    "np.random.seed(8725)\n",
    "#np.random.seed(827205)\n",
    "\n",
    "\n",
    "# Ahora definimos las capas\n",
    "\n",
    "capa_entrada = layers.InputLayer((n_lote, 1, im_ancho, im_alto), entrada_var)\n",
    "\n",
    "capa_conv_1 = layers.Conv2DLayer(\n",
    "    capa_entrada,\n",
    "    num_filters = 4,\n",
    "    filter_size = (5,5),\n",
    "    nonlinearity = rectify)\n",
    "\n",
    "capa_pool_1 = layers.MaxPool2DLayer(\n",
    "    capa_conv_1,\n",
    "    pool_size = (2,2)\n",
    ")\n",
    "\n",
    "capa_conv_2 = layers.Conv2DLayer(\n",
    "    capa_pool_1,\n",
    "    num_filters = 10,\n",
    "    filter_size = (5,5),\n",
    "    nonlinearity = rectify\n",
    ")\n",
    "\n",
    "capa_pool_2 = layers.MaxPool2DLayer(\n",
    "    capa_conv_2,\n",
    "    pool_size = (2,2)\n",
    ")\n",
    "\n",
    "#capa_oculta = layers.DenseLayer(\n",
    "#    capa_pool_2,\n",
    "#    num_units = 8,\n",
    "#    nonlinearity = rectify\n",
    "#)\n",
    "\n",
    "capa_salida = layers.DenseLayer(\n",
    "    capa_pool_2,\n",
    "    num_units = 10,\n",
    "    nonlinearity = softmax\n",
    ")"
   ]
  },
  {
   "cell_type": "markdown",
   "metadata": {},
   "source": [
    "En total, nuestra red tiene el siguiente número de parámetros:"
   ]
  },
  {
   "cell_type": "code",
   "execution_count": 11,
   "metadata": {
    "collapsed": false
   },
   "outputs": [
    {
     "name": "stdout",
     "output_type": "stream",
     "text": [
      "2724\n",
      "(4, 1, 5, 5)\n",
      "(10, 4, 5, 5)\n",
      "(160, 10)\n"
     ]
    }
   ],
   "source": [
    "\n",
    "print layers.count_params(capa_salida)\n",
    "print capa_conv_1.W.get_value().shape\n",
    "print capa_conv_2.W.get_value().shape\n",
    "#print capa_oculta.W.get_value().shape\n",
    "print capa_salida.W.get_value().shape"
   ]
  },
  {
   "cell_type": "markdown",
   "metadata": {},
   "source": [
    "¿Cómo se ve, por ejemplo, la incialización de la primera capa?"
   ]
  },
  {
   "cell_type": "code",
   "execution_count": 12,
   "metadata": {
    "collapsed": false
   },
   "outputs": [
    {
     "name": "stdout",
     "output_type": "stream",
     "text": [
      "(4, 1, 5, 5)\n",
      "[[ 0.16448954  0.21868072  0.19367532 -0.19746259  0.09410992]\n",
      " [ 0.09979602 -0.19904077 -0.10835413  0.08268167  0.04086857]\n",
      " [-0.03652755 -0.0718561  -0.20396399  0.18297067 -0.1114347 ]\n",
      " [-0.08498354  0.18924432 -0.17541225  0.0739847   0.06894962]\n",
      " [ 0.07897285 -0.18638538 -0.15542826  0.12126783  0.21643192]]\n"
     ]
    },
    {
     "data": {
      "image/png": "[encoded data removed]",
      "text/plain": [
       "<matplotlib.figure.Figure at 0x119a616d0>"
      ]
     },
     "metadata": {},
     "output_type": "display_data"
    },
    {
     "data": {
      "image/png": "[encoded data removed]",
      "text/plain": [
       "<matplotlib.figure.Figure at 0x119c8bd90>"
      ]
     },
     "metadata": {},
     "output_type": "display_data"
    }
   ],
   "source": [
    "import matplotlib.cm as cm\n",
    "import matplotlib.gridspec as gridspec\n",
    "\n",
    "pesos_1 = capa_conv_1.W.get_value()\n",
    "pesos_2 =  capa_conv_2.W.get_value()\n",
    "print pesos_1.shape\n",
    "print pesos_1[0,0,:,:]\n",
    "\n",
    "fig  = plt.figure()\n",
    "num_filt_1 = pesos_1.shape[0]\n",
    "gs = gridspec.GridSpec(1, num_filt_1)\n",
    "ax = [plt.subplot(gs[i]) for i in range(num_filt_1)]\n",
    "gs.update(hspace=0)\n",
    "gs.tight_layout(fig, h_pad=-2.0,w_pad=0.0)\n",
    "for i in range(num_filt_1):\n",
    "    ax[i].imshow(pesos_1[i,0,:,:], cmap = cm.Greys_r,  interpolation = 'none')\n",
    "fig  = plt.figure()\n",
    "num_filt_1 = pesos_1.shape[0]\n",
    "gs = gridspec.GridSpec(1, num_filt_1)\n",
    "ax = [plt.subplot(gs[i]) for i in range(num_filt_1)]\n",
    "gs.update(hspace=0)\n",
    "gs.tight_layout(fig, h_pad=-2.0,w_pad=0.0)\n",
    "for i in range(num_filt_1):\n",
    "    ax[i].imshow(pesos_1[i,0,:,:], cmap = cm.Greys_r)#, interpolation = 'none')\n",
    " "
   ]
  },
  {
   "cell_type": "markdown",
   "metadata": {},
   "source": [
    "### Definición de pérdida y de optimización\n",
    "\n",
    "Primero definimos la funciones necesarias para calcular la pérdida. Con salida obtenemos (cross entropy es devianza multinomial /2):"
   ]
  },
  {
   "cell_type": "code",
   "execution_count": 13,
   "metadata": {
    "collapsed": false
   },
   "outputs": [],
   "source": [
    "salida = lasagne.layers.get_output(capa_salida)\n",
    "salida\n",
    "perdida = lasagne.objectives.categorical_crossentropy(salida, respuesta_var)\n",
    "perdida = perdida.mean() #calcular media sobre los datos que pasemos"
   ]
  },
  {
   "cell_type": "markdown",
   "metadata": {},
   "source": [
    "Podemos definir la regularización simplemente sumando a la pérdida que establecimos arriba. La regularización es un parámetro que también podemos afinar:"
   ]
  },
  {
   "cell_type": "code",
   "execution_count": 14,
   "metadata": {
    "collapsed": false
   },
   "outputs": [],
   "source": [
    "reg_capas = {capa_conv_1:0.02, capa_conv_2:0.02, capa_salida:0.02}\n",
    "\n",
    "l2_penalizacion = regularize_layer_params_weighted(reg_capas, l2)\n",
    "perdida_reg = perdida + l2_penalizacion"
   ]
  },
  {
   "cell_type": "markdown",
   "metadata": {},
   "source": [
    "Y ahora repetimos para calcular sobre la muestra de prueba, agregando también una función para el cálculo de la tasa de clasificación incorrecta:"
   ]
  },
  {
   "cell_type": "code",
   "execution_count": 15,
   "metadata": {
    "collapsed": false
   },
   "outputs": [],
   "source": [
    "salida_prueba = lasagne.layers.get_output(capa_salida, deterministic=True)\n",
    "perdida_pr = lasagne.objectives.categorical_crossentropy(salida_prueba, respuesta_var)\n",
    "perdida_pr = perdida_pr.mean()\n",
    "error_pr = T.mean(T.eq(T.argmax(salida_prueba, axis=1), respuesta_var))"
   ]
  },
  {
   "cell_type": "markdown",
   "metadata": {},
   "source": [
    "### Entrenamiento\n",
    "En esta parte definimos los parámetros sobre los que queremos optimizar, y usamos actualización de \n",
    "descenso estocástico. En esta parte podemos ajustar la `learning_rate` para afinar la convergencia. En lo que sigue:\n",
    "\n",
    "- Entrenaremos por **descenso estocástico con mini-lotes**.\n",
    "- Escoger el **tamaño de minilote** suficientemente chico para no exceder la memoria del GPU, y aumentar para tener convergencia más rápida. Con minilotes demasiado chicos puede tardar más un recorrido sobre todos los datos (pasar datos de cpu a gpu).\n",
    "- Una **época** es una vuelta completa a todos los datos.\n",
    "- La **tasa de aprendizaje** tiene que ser suficientemente chica para evitar divergencia. Si el algoritmo parece converger en promedio pero  oscila mucho hacia el final, podemos bajar un poco la tasa de aprendizaje y obtener una solución ligeramente mejor. Se puede reducir hacia el final del entrenamiento también."
   ]
  },
  {
   "cell_type": "code",
   "execution_count": 16,
   "metadata": {
    "collapsed": false
   },
   "outputs": [],
   "source": [
    "params = lasagne.layers.get_all_params(capa_salida, trainable = True)\n",
    "updates = lasagne.updates.sgd(perdida_reg, params, learning_rate=0.025)\n",
    "#updates = lasagne.updates.nesterov_momentum(\n",
    "#        perdida_reg, params, learning_rate=0.01, momentum=0.9)"
   ]
  },
  {
   "cell_type": "code",
   "execution_count": 17,
   "metadata": {
    "collapsed": false
   },
   "outputs": [],
   "source": [
    "entrena_fn = theano.function([entrada_var, respuesta_var], perdida, updates = updates)\n",
    "valid_fn = theano.function([entrada_var, respuesta_var], [perdida_pr, error_pr])\n"
   ]
  },
  {
   "cell_type": "markdown",
   "metadata": {},
   "source": [
    "Y finalmente definimos la siguiente función para hacer le entrenamiento"
   ]
  },
  {
   "cell_type": "code",
   "execution_count": 18,
   "metadata": {
    "collapsed": false
   },
   "outputs": [],
   "source": [
    "def ajustar_red(num_epochs, x_train,y_train, x_test,y_test, entrena_fn, valid_fn):\n",
    "    for epoch in range(num_epochs):\n",
    "        train_err = 0\n",
    "        train_batches = 0\n",
    "        start_time = time.time()\n",
    "        for batch in iterar_minilotes(x_train, y_train, n_lote, mezclar = True):\n",
    "            inputs, targets = batch\n",
    "            train_err += entrena_fn(inputs, targets)\n",
    "            train_batches += 1\n",
    "        # And a full pass over the validation data:\n",
    "        val_err = 0\n",
    "        val_acc = 0\n",
    "        val_batches = 0\n",
    "        for batch in iterar_minilotes(x_test, y_test, n_lote, mezclar=False):\n",
    "            inputs, targets = batch\n",
    "            err, acc = valid_fn(inputs, targets)\n",
    "            val_err += err\n",
    "            val_acc += acc\n",
    "            val_batches += 1\n",
    "\n",
    "        # Then we print the results for this epoch:\n",
    "        if(epoch % 10 == 0 or epoch < 10):\n",
    "            print(\"Época {} de {} tomó {:.3f}s\".format(\n",
    "                epoch + 1, num_epochs, time.time() - start_time))\n",
    "            print(\"  pérdida entrenamiento:\\t\\t{:.4f}\".format(train_err / train_batches))\n",
    "            print(\"  pérdida validación:   \\t\\t{:.4f}\".format(val_err / val_batches))\n",
    "            print(\"  correctos validación: \\t\\t{:.2f} %\".format(\n",
    "                val_acc / val_batches * 100))\n",
    "            \n"
   ]
  },
  {
   "cell_type": "code",
   "execution_count": 27,
   "metadata": {
    "collapsed": false
   },
   "outputs": [
    {
     "name": "stdout",
     "output_type": "stream",
     "text": [
      "Época 1 de 150 tomó 1.372s\n",
      "  pérdida entrenamiento:\t\t0.1567\n",
      "  pérdida validación:   \t\t0.2653\n",
      "  correctos validación: \t\t93.15 %\n",
      "Época 2 de 150 tomó 1.084s\n",
      "  pérdida entrenamiento:\t\t0.1562\n",
      "  pérdida validación:   \t\t0.2632\n",
      "  correctos validación: \t\t93.00 %\n",
      "Época 3 de 150 tomó 1.062s\n",
      "  pérdida entrenamiento:\t\t0.1560\n",
      "  pérdida validación:   \t\t0.2634\n",
      "  correctos validación: \t\t93.15 %\n",
      "Época 4 de 150 tomó 1.079s\n",
      "  pérdida entrenamiento:\t\t0.1553\n",
      "  pérdida validación:   \t\t0.2611\n",
      "  correctos validación: \t\t93.15 %\n",
      "Época 5 de 150 tomó 1.056s\n",
      "  pérdida entrenamiento:\t\t0.1543\n",
      "  pérdida validación:   \t\t0.2605\n",
      "  correctos validación: \t\t93.00 %\n",
      "Época 6 de 150 tomó 1.072s\n",
      "  pérdida entrenamiento:\t\t0.1552\n",
      "  pérdida validación:   \t\t0.2630\n",
      "  correctos validación: \t\t93.05 %\n",
      "Época 7 de 150 tomó 1.075s\n",
      "  pérdida entrenamiento:\t\t0.1526\n",
      "  pérdida validación:   \t\t0.2597\n",
      "  correctos validación: \t\t93.00 %\n",
      "Época 8 de 150 tomó 1.042s\n",
      "  pérdida entrenamiento:\t\t0.1516\n",
      "  pérdida validación:   \t\t0.2595\n",
      "  correctos validación: \t\t92.95 %\n",
      "Época 9 de 150 tomó 1.034s\n",
      "  pérdida entrenamiento:\t\t0.1510\n",
      "  pérdida validación:   \t\t0.2575\n",
      "  correctos validación: \t\t93.25 %\n",
      "Época 10 de 150 tomó 1.040s\n",
      "  pérdida entrenamiento:\t\t0.1518\n",
      "  pérdida validación:   \t\t0.2575\n",
      "  correctos validación: \t\t93.25 %\n",
      "Época 11 de 150 tomó 1.033s\n",
      "  pérdida entrenamiento:\t\t0.1500\n",
      "  pérdida validación:   \t\t0.2559\n",
      "  correctos validación: \t\t93.20 %\n",
      "Época 21 de 150 tomó 1.033s\n",
      "  pérdida entrenamiento:\t\t0.1452\n",
      "  pérdida validación:   \t\t0.2505\n",
      "  correctos validación: \t\t93.40 %\n",
      "Época 31 de 150 tomó 1.031s\n",
      "  pérdida entrenamiento:\t\t0.1400\n",
      "  pérdida validación:   \t\t0.2447\n",
      "  correctos validación: \t\t93.85 %\n",
      "Época 41 de 150 tomó 1.031s\n",
      "  pérdida entrenamiento:\t\t0.1358\n",
      "  pérdida validación:   \t\t0.2409\n",
      "  correctos validación: \t\t93.80 %\n",
      "Época 51 de 150 tomó 1.030s\n",
      "  pérdida entrenamiento:\t\t0.1325\n",
      "  pérdida validación:   \t\t0.2389\n",
      "  correctos validación: \t\t94.30 %\n",
      "Época 61 de 150 tomó 1.061s\n",
      "  pérdida entrenamiento:\t\t0.1302\n",
      "  pérdida validación:   \t\t0.2333\n",
      "  correctos validación: \t\t94.40 %\n",
      "Época 71 de 150 tomó 1.043s\n",
      "  pérdida entrenamiento:\t\t0.1285\n",
      "  pérdida validación:   \t\t0.2342\n",
      "  correctos validación: \t\t93.90 %\n",
      "Época 81 de 150 tomó 1.036s\n",
      "  pérdida entrenamiento:\t\t0.1270\n",
      "  pérdida validación:   \t\t0.2273\n",
      "  correctos validación: \t\t94.50 %\n",
      "Época 91 de 150 tomó 1.032s\n",
      "  pérdida entrenamiento:\t\t0.1244\n",
      "  pérdida validación:   \t\t0.2299\n",
      "  correctos validación: \t\t94.25 %\n",
      "Época 101 de 150 tomó 1.145s\n",
      "  pérdida entrenamiento:\t\t0.1231\n",
      "  pérdida validación:   \t\t0.2285\n",
      "  correctos validación: \t\t94.25 %\n",
      "Época 111 de 150 tomó 1.032s\n",
      "  pérdida entrenamiento:\t\t0.1226\n",
      "  pérdida validación:   \t\t0.2244\n",
      "  correctos validación: \t\t94.35 %\n",
      "Época 121 de 150 tomó 1.107s\n",
      "  pérdida entrenamiento:\t\t0.1205\n",
      "  pérdida validación:   \t\t0.2223\n",
      "  correctos validación: \t\t94.55 %\n",
      "Época 131 de 150 tomó 1.086s\n",
      "  pérdida entrenamiento:\t\t0.1192\n",
      "  pérdida validación:   \t\t0.2224\n",
      "  correctos validación: \t\t94.90 %\n",
      "Época 141 de 150 tomó 1.183s\n",
      "  pérdida entrenamiento:\t\t0.1176\n",
      "  pérdida validación:   \t\t0.2205\n",
      "  correctos validación: \t\t94.40 %\n"
     ]
    }
   ],
   "source": [
    "ajustar_red(150, x_train,y_train, x_test,y_test, entrena_fn, valid_fn)"
   ]
  },
  {
   "cell_type": "markdown",
   "metadata": {},
   "source": [
    "### Evaluación y predicciones\n",
    "\n",
    "Podemos extraer predicciones con el siguiente código (escogiendo la predicción como la clase con probabilidad más alta):"
   ]
  },
  {
   "cell_type": "code",
   "execution_count": 28,
   "metadata": {
    "collapsed": false
   },
   "outputs": [
    {
     "name": "stdout",
     "output_type": "stream",
     "text": [
      "[9 6 3 ..., 4 0 1]\n"
     ]
    }
   ],
   "source": [
    "pred_prueba = lasagne.layers.get_output(capa_salida, deterministic=True)\n",
    "predict_fn = theano.function([entrada_var], T.argmax(pred_prueba, axis=1))\n",
    "preds = predict_fn(x_test)\n",
    "print preds"
   ]
  },
  {
   "cell_type": "code",
   "execution_count": 29,
   "metadata": {
    "collapsed": false
   },
   "outputs": [
    {
     "name": "stdout",
     "output_type": "stream",
     "text": [
      "[[353   0   1   0   2   0   1   1   0   1]\n",
      " [  0 256   0   0   3   0   5   0   0   0]\n",
      " [  5   0 182   1   4   0   0   1   5   0]\n",
      " [  3   0   2 150   0  11   0   0   0   0]\n",
      " [  0   2   4   0 180   3   4   3   0   4]\n",
      " [  3   0   0   4   0 151   0   0   0   2]\n",
      " [  1   0   1   0   3   1 164   0   0   0]\n",
      " [  1   0   1   0   4   0   0 138   1   2]\n",
      " [  6   0   3   0   1   4   0   0 152   0]\n",
      " [  0   2   0   0   0   0   0   3   3 169]]\n",
      "2007\n"
     ]
    },
    {
     "data": {
      "text/plain": [
       "0.94419531639262577"
      ]
     },
     "execution_count": 29,
     "metadata": {},
     "output_type": "execute_result"
    }
   ],
   "source": [
    "from sklearn.metrics import confusion_matrix\n",
    "print confusion_matrix(y_test, preds)\n",
    "print len(y_test)\n",
    "np.mean(y_test==preds)"
   ]
  },
  {
   "cell_type": "markdown",
   "metadata": {},
   "source": [
    "### Cómo funciona la red ajustada\n",
    "Podemos entender algo del funcionamiento de la red checando los pesos ajustados. Para la primera capa de convolución:"
   ]
  },
  {
   "cell_type": "code",
   "execution_count": 30,
   "metadata": {
    "collapsed": false
   },
   "outputs": [
    {
     "name": "stdout",
     "output_type": "stream",
     "text": [
      "(4, 1, 5, 5)\n",
      "[[[[ 0.10296808  0.22939733  0.26958317  0.1606282   0.03839815]\n",
      "   [-0.00041214  0.07574169  0.21167898  0.28942627  0.15634231]\n",
      "   [-0.11368216 -0.10256068 -0.0379014   0.16778931  0.19286416]\n",
      "   [-0.14128301 -0.15952949 -0.17120291 -0.02657154  0.12279809]\n",
      "   [-0.13142945 -0.16112222 -0.16932108 -0.07202909  0.04070482]]]\n",
      "\n",
      "\n",
      " [[[-0.10229553 -0.14604515 -0.16818838 -0.17037098 -0.15538937]\n",
      "   [-0.10226594 -0.16852759 -0.18904434 -0.17969297 -0.13536963]\n",
      "   [-0.00010665 -0.07574232 -0.09150898 -0.05896533  0.02179012]\n",
      "   [ 0.18335946  0.17359196  0.19381469  0.20411219  0.16900747]\n",
      "   [ 0.24668346  0.30702996  0.30568886  0.2400154   0.13097589]]]\n",
      "\n",
      "\n",
      " [[[ 0.13334268  0.31092849  0.17024703 -0.0502881  -0.11811146]\n",
      "   [ 0.21897332  0.3700099   0.06291305 -0.14891158 -0.12399212]\n",
      "   [ 0.34055912  0.31630269 -0.08984422 -0.21823943 -0.16214474]\n",
      "   [ 0.38305002  0.20328113 -0.18196377 -0.23794676 -0.17887506]\n",
      "   [ 0.30412686  0.0888427  -0.18792559 -0.23462321 -0.17157194]]]\n",
      "\n",
      "\n",
      " [[[ 0.02728134  0.17065759  0.15538028 -0.02235222 -0.13470082]\n",
      "   [-0.0104215   0.17776871  0.28297821  0.0718675  -0.17553465]\n",
      "   [-0.10937121  0.0144979   0.27923998  0.26345187  0.01554404]\n",
      "   [-0.16937909 -0.10463898  0.13113175  0.39777598  0.30711377]\n",
      "   [-0.17230581 -0.14753795  0.00285299  0.22048527  0.2054507 ]]]]\n",
      "[[ 0.10296808  0.22939733  0.26958317  0.1606282   0.03839815]\n",
      " [-0.00041214  0.07574169  0.21167898  0.28942627  0.15634231]\n",
      " [-0.11368216 -0.10256068 -0.0379014   0.16778931  0.19286416]\n",
      " [-0.14128301 -0.15952949 -0.17120291 -0.02657154  0.12279809]\n",
      " [-0.13142945 -0.16112222 -0.16932108 -0.07202909  0.04070482]]\n",
      "0.397776\n",
      "-0.237947\n"
     ]
    },
    {
     "data": {
      "image/png": "[encoded data removed]",
      "text/plain": [
       "<matplotlib.figure.Figure at 0x120ee7cd0>"
      ]
     },
     "metadata": {},
     "output_type": "display_data"
    }
   ],
   "source": [
    "import matplotlib.cm as cm\n",
    "import matplotlib.gridspec as gridspec\n",
    "rcParams['figure.figsize'] = (6,10)\n",
    "\n",
    "\n",
    "pesos_1 = capa_conv_1.W.get_value()\n",
    "print pesos_1.shape\n",
    "print pesos_1\n",
    "print pesos_1[0,0,:,:]\n",
    "print np.amax(pesos_1)\n",
    "print np.amin(pesos_1)\n",
    "\n",
    "fig  = plt.figure()\n",
    "num_filt_1 = pesos_1.shape[0]\n",
    "gs = gridspec.GridSpec(1, num_filt_1)\n",
    "ax = [plt.subplot(gs[i]) for i in range(num_filt_1)]\n",
    "gs.update(hspace=0)\n",
    "gs.tight_layout(fig, h_pad=-2.0,w_pad=0.0)\n",
    "for i in range(num_filt_1):\n",
    "    ax[i].imshow(pesos_1[i,0,:,:], cmap = cm.Greys_r, interpolation = 'none')\n",
    "    #ax[i].axis('off')"
   ]
  },
  {
   "cell_type": "markdown",
   "metadata": {},
   "source": [
    "Como vemos, estos son filtros simples que intentan extraer bordes o gradientes en las imágenes. \n",
    "\n",
    "La siguientes capas son más difíciles de entender. En la segunda capa, tenemos 8 filtros para cada una de las ocho imagenes filtradas de la capa anterior:"
   ]
  },
  {
   "cell_type": "code",
   "execution_count": 31,
   "metadata": {
    "collapsed": false
   },
   "outputs": [
    {
     "name": "stdout",
     "output_type": "stream",
     "text": [
      "(10, 4, 5, 5)\n",
      "-0.133734 0.31326\n"
     ]
    }
   ],
   "source": [
    "pesos_2 = capa_conv_2.W.get_value()\n",
    "print pesos_2.shape\n",
    "pesos_2[:,0,:,:]\n",
    "max_w = np.amax(pesos_2)\n",
    "min_w = np.amin(pesos_2)\n",
    "print min_w, max_w"
   ]
  },
  {
   "cell_type": "markdown",
   "metadata": {},
   "source": [
    "Por ejemplo, extraemos los pesos del primer filtro para los datos filtrados de la primera capa anterior:"
   ]
  },
  {
   "cell_type": "code",
   "execution_count": 32,
   "metadata": {
    "collapsed": false
   },
   "outputs": [
    {
     "name": "stdout",
     "output_type": "stream",
     "text": [
      "(5, 5)\n",
      "[[ 0.01933214 -0.01536095  0.01384587  0.02500969 -0.00543596]\n",
      " [-0.00281532 -0.04323774 -0.00482451  0.01690255 -0.02361323]\n",
      " [-0.00734004 -0.04783414 -0.00370493  0.01547826 -0.04701602]\n",
      " [ 0.01472036 -0.04014579 -0.00003247  0.03684657 -0.0379307 ]\n",
      " [ 0.00478962 -0.03278736 -0.00894465  0.03484377 -0.01317111]]\n"
     ]
    }
   ],
   "source": [
    "W_1 = pesos_2[0,0,:,:]\n",
    "np.set_printoptions(suppress = True)\n",
    "print W_1.shape\n",
    "print W_1[:,:]"
   ]
  },
  {
   "cell_type": "code",
   "execution_count": 33,
   "metadata": {
    "collapsed": false
   },
   "outputs": [
    {
     "name": "stdout",
     "output_type": "stream",
     "text": [
      "4 10\n"
     ]
    },
    {
     "data": {
      "image/png": "[encoded data removed]",
      "text/plain": [
       "<matplotlib.figure.Figure at 0x11b9ea210>"
      ]
     },
     "metadata": {},
     "output_type": "display_data"
    }
   ],
   "source": [
    "rcParams['figure.figsize'] = (10, 10)\n",
    "\n",
    "fig  = plt.figure()\n",
    "num_filt_2 = pesos_2.shape[0]\n",
    "gs = gridspec.GridSpec(num_filt_1, num_filt_2, wspace=0.0,hspace=0.0)\n",
    "print num_filt_1, num_filt_2\n",
    "ax = [plt.subplot(gs[i]) for i in range(num_filt_1*num_filt_2)]\n",
    "gs.update(hspace=5)\n",
    "gs.tight_layout(fig, h_pad=-7.0,w_pad=-2.0)\n",
    "for i in range(num_filt_1):\n",
    "    for j in range(num_filt_2):\n",
    "        ax[num_filt_2*i+j].imshow(pesos_2[j,i,:,:], cmap = cm.Greys_r, clim=(min_w/2,max_w/2),interpolation='none')\n",
    "        #ax[num_filt_2*i+j].axis('off')"
   ]
  },
  {
   "cell_type": "markdown",
   "metadata": {},
   "source": [
    "### Gráficas de activaciones"
   ]
  },
  {
   "cell_type": "code",
   "execution_count": 35,
   "metadata": {
    "collapsed": false
   },
   "outputs": [
    {
     "name": "stdout",
     "output_type": "stream",
     "text": [
      "(2007, 4, 24, 24)\n",
      "(4, 24, 24)\n",
      "(2007, 10, 4, 4)\n",
      "[6 3 2 6 0 0 0 6 9 6 2 2 4 0 3 1 6 9 6]\n"
     ]
    },
    {
     "data": {
      "image/png": "[encoded data removed]",
      "text/plain": [
       "<matplotlib.figure.Figure at 0x11fe79250>"
      ]
     },
     "metadata": {},
     "output_type": "display_data"
    },
    {
     "data": {
      "image/png": "[encoded data removed]",
      "text/plain": [
       "<matplotlib.figure.Figure at 0x121163990>"
      ]
     },
     "metadata": {},
     "output_type": "display_data"
    },
    {
     "data": {
      "image/png": "[encoded data removed]",
      "text/plain": [
       "<matplotlib.figure.Figure at 0x12100af90>"
      ]
     },
     "metadata": {},
     "output_type": "display_data"
    },
    {
     "data": {
      "image/png": "[encoded data removed]",
      "text/plain": [
       "<matplotlib.figure.Figure at 0x1120aa150>"
      ]
     },
     "metadata": {},
     "output_type": "display_data"
    },
    {
     "data": {
      "image/png": "[encoded data removed]",
      "text/plain": [
       "<matplotlib.figure.Figure at 0x111f88610>"
      ]
     },
     "metadata": {},
     "output_type": "display_data"
    },
    {
     "data": {
      "image/png": "[encoded data removed]",
      "text/plain": [
       "<matplotlib.figure.Figure at 0x11c946b90>"
      ]
     },
     "metadata": {},
     "output_type": "display_data"
    },
    {
     "data": {
      "image/png": "[encoded data removed]",
      "text/plain": [
       "<matplotlib.figure.Figure at 0x11b7dba90>"
      ]
     },
     "metadata": {},
     "output_type": "display_data"
    },
    {
     "data": {
      "image/png": "[encoded data removed]",
      "text/plain": [
       "<matplotlib.figure.Figure at 0x1210a2750>"
      ]
     },
     "metadata": {},
     "output_type": "display_data"
    },
    {
     "data": {
      "image/png": "[encoded data removed]",
      "text/plain": [
       "<matplotlib.figure.Figure at 0x11157f050>"
      ]
     },
     "metadata": {},
     "output_type": "display_data"
    },
    {
     "data": {
      "image/png": "[encoded data removed]",
      "text/plain": [
       "<matplotlib.figure.Figure at 0x10d8a8f90>"
      ]
     },
     "metadata": {},
     "output_type": "display_data"
    },
    {
     "data": {
      "image/png": "[encoded data removed]",
      "text/plain": [
       "<matplotlib.figure.Figure at 0x10d6514d0>"
      ]
     },
     "metadata": {},
     "output_type": "display_data"
    },
    {
     "data": {
      "image/png": "[encoded data removed]",
      "text/plain": [
       "<matplotlib.figure.Figure at 0x10d4b4910>"
      ]
     },
     "metadata": {},
     "output_type": "display_data"
    }
   ],
   "source": [
    "\n",
    "salida_c1 = lasagne.layers.get_output(capa_conv_1, deterministic=True)\n",
    "predict_c1 = theano.function([entrada_var], salida_c1)\n",
    "preds_c1 = predict_c1(x_test[:,:,:,:])\n",
    "print preds_c1.shape\n",
    "\n",
    "print preds_c1[11,:,:,:].shape\n",
    "\n",
    "salida_c2 = lasagne.layers.get_output(capa_pool_2, deterministic=True)\n",
    "predict_c2 = theano.function([entrada_var], salida_c2)\n",
    "preds_c2 = predict_c2(x_test[:,:,:,:])\n",
    "print preds_c2.shape\n",
    "max_w = np.amax(preds_c2[:,:,:,:])\n",
    "min_w = np.amin(preds_c2[:,:,:,:])\n",
    "\n",
    "def plot_activ(n_fig):\n",
    "    #rcParams['figure.figsize'] = (2, 3)\n",
    "    #plt.imshow(x_test[n_fig,0,:,:], cmap = cm.Greys_r)\n",
    "    rcParams['figure.figsize'] = (4,4)\n",
    "    ## 1a capa\n",
    "    fig  = plt.figure()\n",
    "    gs = gridspec.GridSpec(1, 4, wspace=0.0,hspace=0.0)\n",
    "    ax = [plt.subplot(gs[i]) for i in range(4)]\n",
    "    for i in range(4):\n",
    "        ax[i].imshow(preds_c1[n_fig,i,:,:])\n",
    "    # 2a capa\n",
    "    rcParams['figure.figsize'] = (12,6)\n",
    "    fig  = plt.figure()\n",
    "    gs = gridspec.GridSpec(1, 10, wspace=0.0,hspace=0.0)\n",
    "    ax = [plt.subplot(gs[i]) for i in range(10)]\n",
    "    gs.tight_layout(fig, h_pad=-0.0,w_pad=-0.0)\n",
    "\n",
    "    for i in range(10):\n",
    "        max_w = np.amax(preds_c2[n_fig,i,:,:])\n",
    "        min_w = np.amin(preds_c2[n_fig,i,:,:])\n",
    "        ax[i].imshow(preds_c2[n_fig,i,:,:], cmap = cm.Greys_r, interpolation='none',\n",
    "                     clim=(min_w,max_w))\n",
    "        ax[i].axis('off')\n",
    "\n",
    "print preds[1:20]\n",
    "plot_activ(11)\n",
    "plot_activ(20)\n",
    "plot_activ(58)\n",
    "plot_activ(13)\n",
    "plot_activ(62)\n",
    "plot_activ(65)\n",
    "\n",
    "\n"
   ]
  },
  {
   "cell_type": "markdown",
   "metadata": {
    "collapsed": true
   },
   "source": [
    "### Regularización dropout"
   ]
  },
  {
   "cell_type": "code",
   "execution_count": 40,
   "metadata": {
    "collapsed": false
   },
   "outputs": [],
   "source": [
    "entrada_var = T.tensor4('entradas')\n",
    "respuesta_var = T.ivector('respuesta')\n",
    "\n",
    "capa_entrada = layers.InputLayer((n_lote, 1, im_ancho, im_alto), entrada_var)\n",
    "\n",
    "#capa_dp_0 = layers.DropoutLayer(capa_entrada, p=0.5)\n",
    "\n",
    "np.random.seed(2919235)\n",
    "\n",
    "capa_conv_1 = layers.Conv2DLayer(\n",
    "    capa_entrada,\n",
    "    num_filters = 6,\n",
    "    filter_size = (5,5),\n",
    "    nonlinearity = rectify)\n",
    "\n",
    "capa_pool_1 = layers.MaxPool2DLayer(\n",
    "    capa_conv_1,\n",
    "    pool_size = (2,2)\n",
    ")\n",
    "\n",
    "capa_dp_1 = layers.DropoutLayer(capa_pool_1, p=0.5)\n",
    "\n",
    "capa_conv_2 = layers.Conv2DLayer(\n",
    "    capa_pool_1,\n",
    "    num_filters = 20,\n",
    "    filter_size = (5,5),\n",
    "    nonlinearity = rectify\n",
    ")\n",
    "\n",
    "capa_pool_2 = layers.MaxPool2DLayer(\n",
    "    capa_conv_2,\n",
    "    pool_size = (2,2)\n",
    ")\n",
    "\n",
    "capa_dp_2 = layers.DropoutLayer(capa_pool_2, p=0.5)\n",
    "\n",
    "capa_oculta = layers.DenseLayer(\n",
    "    capa_dp_2,\n",
    "    num_units = 150,\n",
    "    nonlinearity = rectify\n",
    ")\n",
    "\n",
    "capa_dropout = layers.DropoutLayer(capa_oculta, p=0.5)\n",
    "\n",
    "capa_salida = layers.DenseLayer(\n",
    "    capa_dropout,\n",
    "    num_units = 10,\n",
    "    nonlinearity = softmax\n",
    ")\n"
   ]
  },
  {
   "cell_type": "code",
   "execution_count": null,
   "metadata": {
    "collapsed": false
   },
   "outputs": [],
   "source": [
    "pred_2 = lasagne.layers.get_output(capa_salida)\n",
    "perdida_2 = lasagne.objectives.categorical_crossentropy(pred_2, respuesta_var)\n",
    "perdida_2 = perdida_2.mean()\n",
    "#reg_layers = {capa_oculta:0.0001,capa_conv_1:0.0001, capa_conv_2:0.0001, \n",
    "#              capa_salida:0.0001}\n",
    "#l2_penalty = regularize_layer_params_weighted(reg_layers, l2)\n",
    "#loss_r = loss + l2_penalty\n",
    "\n",
    "prueba_pred = lasagne.layers.get_output(capa_salida, deterministic=True)\n",
    "perdida_pr_2 = lasagne.objectives.categorical_crossentropy(prueba_pred, respuesta_var)\n",
    "perdida_pr_2 = perdida_pr_2.mean()\n",
    "test_acc = T.mean(T.eq(T.argmax(prueba_pred, axis=1), respuesta_var))\n",
    "\n",
    "params_2 =lasagne.layers.get_all_params(capa_salida, trainable = True)\n",
    "updates_2 = lasagne.updates.nesterov_momentum(perdida_2, params_2, learning_rate=0.002, momentum=0.9)\n",
    "\n",
    "entrena_fn_2 = theano.function([entrada_var, respuesta_var], perdida_2, updates=updates_2)\n",
    "valid_fn_2 = theano.function([entrada_var, respuesta_var], [perdida_pr_2, test_acc])\n",
    "\n",
    "ajustar_red(600, x_train,y_train, x_test,y_test, entrena_fn_2, valid_fn_2)\n"
   ]
  },
  {
   "cell_type": "code",
   "execution_count": 38,
   "metadata": {
    "collapsed": false
   },
   "outputs": [
    {
     "name": "stdout",
     "output_type": "stream",
     "text": [
      "(8, 1, 5, 5)\n",
      "(30, 8, 5, 5)\n"
     ]
    },
    {
     "data": {
      "image/png": "[encoded data removed]",
      "text/plain": [
       "<matplotlib.figure.Figure at 0x1114c8cd0>"
      ]
     },
     "metadata": {},
     "output_type": "display_data"
    }
   ],
   "source": [
    "\n",
    "import matplotlib.cm as cm\n",
    "import matplotlib.gridspec as gridspec\n",
    "pesos_1 = capa_conv_1.W.get_value()\n",
    "pesos_2 = capa_conv_2.W.get_value()\n",
    "print pesos_1.shape\n",
    "print pesos_2.shape\n",
    "#print pesos_1\n",
    "\n",
    "fig  = plt.figure()\n",
    "num_filt_1 = pesos_1.shape[0]\n",
    "gs = gridspec.GridSpec(1, num_filt_1)\n",
    "ax = [plt.subplot(gs[i]) for i in range(num_filt_1)]\n",
    "gs.update(hspace=0)\n",
    "gs.tight_layout(fig, h_pad=-2.0,w_pad=-2.0)\n",
    "for i in range(num_filt_1):\n",
    "    ax[i].imshow(pesos_1[i,0,:,:], cmap = cm.Greys_r)#, interpolation = 'none')\n",
    "    ax[i].axis('off')"
   ]
  },
  {
   "cell_type": "code",
   "execution_count": 39,
   "metadata": {
    "collapsed": false
   },
   "outputs": [
    {
     "name": "stdout",
     "output_type": "stream",
     "text": [
      "[[354   0   2   0   2   0   0   0   0   1]\n",
      " [  0 257   0   0   4   0   3   0   0   0]\n",
      " [  1   1 191   0   1   0   0   1   3   0]\n",
      " [  1   0   3 156   0   6   0   0   0   0]\n",
      " [  0   1   1   0 192   0   1   1   0   4]\n",
      " [  2   0   0   1   0 155   0   0   1   1]\n",
      " [  0   1   0   0   3   1 165   0   0   0]\n",
      " [  0   0   1   0   5   0   0 141   0   0]\n",
      " [  2   1   0   1   0   1   0   0 160   1]\n",
      " [  0   0   0   1   0   0   0   0   0 176]]\n",
      "2007\n"
     ]
    },
    {
     "data": {
      "text/plain": [
       "0.97010463378176381"
      ]
     },
     "execution_count": 39,
     "metadata": {},
     "output_type": "execute_result"
    }
   ],
   "source": [
    "pred_prueba = lasagne.layers.get_output(capa_salida, deterministic=True)\n",
    "predict_fn = theano.function([entrada_var], T.argmax(pred_prueba, axis=1))\n",
    "preds = predict_fn(x_test)\n",
    "print confusion_matrix(y_test, preds)\n",
    "print len(y_test)\n",
    "np.mean(y_test==preds)"
   ]
  },
  {
   "cell_type": "code",
   "execution_count": null,
   "metadata": {
    "collapsed": true
   },
   "outputs": [],
   "source": []
  },
  {
   "cell_type": "code",
   "execution_count": null,
   "metadata": {
    "collapsed": true
   },
   "outputs": [],
   "source": []
  }
 ],
 "metadata": {
  "kernelspec": {
   "display_name": "Python 2",
   "language": "python",
   "name": "python2"
  },
  "language_info": {
   "codemirror_mode": {
    "name": "ipython",
    "version": 2
   },
   "file_extension": ".py",
   "mimetype": "text/x-python",
   "name": "python",
   "nbconvert_exporter": "python",
   "pygments_lexer": "ipython2",
   "version": "2.7.10"
  }
 },
 "nbformat": 4,
 "nbformat_minor": 0
}
